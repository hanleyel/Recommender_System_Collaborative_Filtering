{
 "cells": [
  {
   "cell_type": "code",
   "execution_count": 5,
   "metadata": {
    "collapsed": true
   },
   "outputs": [],
   "source": [
    "import pandas as pd\n",
    "import json\n",
    "import numpy as np\n",
    "from scipy.sparse import csr_matrix\n",
    "from sklearn.neighbors import NearestNeighbors"
   ]
  },
  {
   "cell_type": "markdown",
   "metadata": {},
   "source": [
    "# Loading and Storing the Data"
   ]
  },
  {
   "cell_type": "code",
   "execution_count": null,
   "metadata": {
    "collapsed": true
   },
   "outputs": [],
   "source": []
  },
  {
   "cell_type": "code",
   "execution_count": 6,
   "metadata": {
    "collapsed": true
   },
   "outputs": [],
   "source": [
    "# Output json training data as a Pandas dataframe.\n",
    "def get_training_data(file_name):\n",
    "\n",
    "    try:\n",
    "        training_data = pd.read_json('reviews.training.json', lines=True)\n",
    "        return training_data\n",
    "    except:\n",
    "        print('Please try another file name.')\n",
    "        return None"
   ]
  },
  {
   "cell_type": "code",
   "execution_count": 7,
   "metadata": {},
   "outputs": [],
   "source": [
    "training_data = get_training_data('reviews.training.json')"
   ]
  },
  {
   "cell_type": "code",
   "execution_count": 8,
   "metadata": {},
   "outputs": [
    {
     "data": {
      "text/plain": [
       "(1358026, 9)"
      ]
     },
     "execution_count": 8,
     "metadata": {},
     "output_type": "execute_result"
    }
   ],
   "source": [
    "training_data.shape"
   ]
  },
  {
   "cell_type": "code",
   "execution_count": 9,
   "metadata": {},
   "outputs": [
    {
     "data": {
      "text/html": [
       "<div>\n",
       "<style scoped>\n",
       "    .dataframe tbody tr th:only-of-type {\n",
       "        vertical-align: middle;\n",
       "    }\n",
       "\n",
       "    .dataframe tbody tr th {\n",
       "        vertical-align: top;\n",
       "    }\n",
       "\n",
       "    .dataframe thead th {\n",
       "        text-align: right;\n",
       "    }\n",
       "</style>\n",
       "<table border=\"1\" class=\"dataframe\">\n",
       "  <thead>\n",
       "    <tr style=\"text-align: right;\">\n",
       "      <th></th>\n",
       "      <th>asin</th>\n",
       "      <th>helpful</th>\n",
       "      <th>overall</th>\n",
       "      <th>reviewText</th>\n",
       "      <th>reviewTime</th>\n",
       "      <th>reviewerID</th>\n",
       "      <th>reviewerName</th>\n",
       "      <th>summary</th>\n",
       "      <th>unixReviewTime</th>\n",
       "    </tr>\n",
       "  </thead>\n",
       "  <tbody>\n",
       "    <tr>\n",
       "      <th>0</th>\n",
       "      <td>B0090SI56Y</td>\n",
       "      <td>[0, 0]</td>\n",
       "      <td>4</td>\n",
       "      <td>The movie was entertaining and falls in line w...</td>\n",
       "      <td>12 22, 2013</td>\n",
       "      <td>AMFIPCYDYWGVT</td>\n",
       "      <td>AMRDxn</td>\n",
       "      <td>Entertaining</td>\n",
       "      <td>1387670400</td>\n",
       "    </tr>\n",
       "    <tr>\n",
       "      <th>1</th>\n",
       "      <td>B00005JL99</td>\n",
       "      <td>[3, 6]</td>\n",
       "      <td>5</td>\n",
       "      <td>One thing to be said about Japanese horror/ext...</td>\n",
       "      <td>11 19, 2003</td>\n",
       "      <td>A3G602Z4DWDZKS</td>\n",
       "      <td>Matthew King</td>\n",
       "      <td>Absolutely stunning! A battle not to be missed!</td>\n",
       "      <td>1069200000</td>\n",
       "    </tr>\n",
       "    <tr>\n",
       "      <th>2</th>\n",
       "      <td>B00109KN0M</td>\n",
       "      <td>[27, 28]</td>\n",
       "      <td>5</td>\n",
       "      <td>Michelle Pfeiffer gives a brilliant performanc...</td>\n",
       "      <td>02 13, 2008</td>\n",
       "      <td>A33BOYMVG3U58Y</td>\n",
       "      <td>TV Critic</td>\n",
       "      <td>Michelle Pfeiffer shines</td>\n",
       "      <td>1202860800</td>\n",
       "    </tr>\n",
       "    <tr>\n",
       "      <th>3</th>\n",
       "      <td>B00005JMPT</td>\n",
       "      <td>[3, 4]</td>\n",
       "      <td>5</td>\n",
       "      <td>I wanted to see &amp;quot;The Missing&amp;quot; when i...</td>\n",
       "      <td>06 18, 2004</td>\n",
       "      <td>ANEDXRFDZDL18</td>\n",
       "      <td>Serene Night</td>\n",
       "      <td>Hard Gritty Western</td>\n",
       "      <td>1087516800</td>\n",
       "    </tr>\n",
       "    <tr>\n",
       "      <th>4</th>\n",
       "      <td>B00005AAA9</td>\n",
       "      <td>[0, 0]</td>\n",
       "      <td>4</td>\n",
       "      <td>I think &amp;#34;Miss Congeniality&amp;#34; is a light...</td>\n",
       "      <td>10 22, 2013</td>\n",
       "      <td>A1VN7IS16PY024</td>\n",
       "      <td>Amazon Customer</td>\n",
       "      <td>Very entertaining but.....</td>\n",
       "      <td>1382400000</td>\n",
       "    </tr>\n",
       "  </tbody>\n",
       "</table>\n",
       "</div>"
      ],
      "text/plain": [
       "         asin   helpful  overall  \\\n",
       "0  B0090SI56Y    [0, 0]        4   \n",
       "1  B00005JL99    [3, 6]        5   \n",
       "2  B00109KN0M  [27, 28]        5   \n",
       "3  B00005JMPT    [3, 4]        5   \n",
       "4  B00005AAA9    [0, 0]        4   \n",
       "\n",
       "                                          reviewText   reviewTime  \\\n",
       "0  The movie was entertaining and falls in line w...  12 22, 2013   \n",
       "1  One thing to be said about Japanese horror/ext...  11 19, 2003   \n",
       "2  Michelle Pfeiffer gives a brilliant performanc...  02 13, 2008   \n",
       "3  I wanted to see &quot;The Missing&quot; when i...  06 18, 2004   \n",
       "4  I think &#34;Miss Congeniality&#34; is a light...  10 22, 2013   \n",
       "\n",
       "       reviewerID     reviewerName  \\\n",
       "0   AMFIPCYDYWGVT           AMRDxn   \n",
       "1  A3G602Z4DWDZKS     Matthew King   \n",
       "2  A33BOYMVG3U58Y        TV Critic   \n",
       "3   ANEDXRFDZDL18     Serene Night   \n",
       "4  A1VN7IS16PY024  Amazon Customer   \n",
       "\n",
       "                                           summary  unixReviewTime  \n",
       "0                                     Entertaining      1387670400  \n",
       "1  Absolutely stunning! A battle not to be missed!      1069200000  \n",
       "2                         Michelle Pfeiffer shines      1202860800  \n",
       "3                              Hard Gritty Western      1087516800  \n",
       "4                       Very entertaining but.....      1382400000  "
      ]
     },
     "execution_count": 9,
     "metadata": {},
     "output_type": "execute_result"
    }
   ],
   "source": [
    "training_data.head()"
   ]
  },
  {
   "cell_type": "code",
   "execution_count": 10,
   "metadata": {
    "collapsed": true
   },
   "outputs": [],
   "source": [
    "# Convert Pandas dataframe to csv file for storage purposes.\n",
    "# NOTE: Don't run this with the actual training data. This was just for saving a small version of the file for time\n",
    "# saving purposes while I was setting up my dataframe and matrices.\n",
    "def convert_to_csv(dataframe, desired_filename):\n",
    "\n",
    "    try:\n",
    "        return dataframe.to_csv(desired_filename, index=False)\n",
    "    except:\n",
    "        print('Please try another dataframe or file name.')"
   ]
  },
  {
   "cell_type": "code",
   "execution_count": 11,
   "metadata": {
    "collapsed": true
   },
   "outputs": [],
   "source": [
    "# convert_to_csv(shortened_training_data, 'shortened_training_data.csv')"
   ]
  },
  {
   "cell_type": "code",
   "execution_count": 12,
   "metadata": {},
   "outputs": [],
   "source": [
    "# Create dataframe grouped by product (asin)\n",
    "asin_data = training_data.groupby('asin').count()\n",
    "asin_data = asin_data.reset_index()"
   ]
  },
  {
   "cell_type": "code",
   "execution_count": 13,
   "metadata": {},
   "outputs": [
    {
     "data": {
      "text/html": [
       "<div>\n",
       "<style scoped>\n",
       "    .dataframe tbody tr th:only-of-type {\n",
       "        vertical-align: middle;\n",
       "    }\n",
       "\n",
       "    .dataframe tbody tr th {\n",
       "        vertical-align: top;\n",
       "    }\n",
       "\n",
       "    .dataframe thead th {\n",
       "        text-align: right;\n",
       "    }\n",
       "</style>\n",
       "<table border=\"1\" class=\"dataframe\">\n",
       "  <thead>\n",
       "    <tr style=\"text-align: right;\">\n",
       "      <th></th>\n",
       "      <th>asin</th>\n",
       "      <th>helpful</th>\n",
       "      <th>overall</th>\n",
       "      <th>reviewText</th>\n",
       "      <th>reviewTime</th>\n",
       "      <th>reviewerID</th>\n",
       "      <th>reviewerName</th>\n",
       "      <th>summary</th>\n",
       "      <th>unixReviewTime</th>\n",
       "    </tr>\n",
       "  </thead>\n",
       "  <tbody>\n",
       "    <tr>\n",
       "      <th>0</th>\n",
       "      <td>0005019281</td>\n",
       "      <td>82</td>\n",
       "      <td>82</td>\n",
       "      <td>82</td>\n",
       "      <td>82</td>\n",
       "      <td>82</td>\n",
       "      <td>82</td>\n",
       "      <td>82</td>\n",
       "      <td>82</td>\n",
       "    </tr>\n",
       "    <tr>\n",
       "      <th>1</th>\n",
       "      <td>0005119367</td>\n",
       "      <td>73</td>\n",
       "      <td>73</td>\n",
       "      <td>73</td>\n",
       "      <td>73</td>\n",
       "      <td>73</td>\n",
       "      <td>73</td>\n",
       "      <td>73</td>\n",
       "      <td>73</td>\n",
       "    </tr>\n",
       "    <tr>\n",
       "      <th>2</th>\n",
       "      <td>0307141985</td>\n",
       "      <td>4</td>\n",
       "      <td>4</td>\n",
       "      <td>4</td>\n",
       "      <td>4</td>\n",
       "      <td>4</td>\n",
       "      <td>4</td>\n",
       "      <td>4</td>\n",
       "      <td>4</td>\n",
       "    </tr>\n",
       "    <tr>\n",
       "      <th>3</th>\n",
       "      <td>0307142469</td>\n",
       "      <td>31</td>\n",
       "      <td>31</td>\n",
       "      <td>31</td>\n",
       "      <td>31</td>\n",
       "      <td>31</td>\n",
       "      <td>31</td>\n",
       "      <td>31</td>\n",
       "      <td>31</td>\n",
       "    </tr>\n",
       "    <tr>\n",
       "      <th>4</th>\n",
       "      <td>0307142477</td>\n",
       "      <td>5</td>\n",
       "      <td>5</td>\n",
       "      <td>5</td>\n",
       "      <td>5</td>\n",
       "      <td>5</td>\n",
       "      <td>5</td>\n",
       "      <td>5</td>\n",
       "      <td>5</td>\n",
       "    </tr>\n",
       "  </tbody>\n",
       "</table>\n",
       "</div>"
      ],
      "text/plain": [
       "         asin  helpful  overall  reviewText  reviewTime  reviewerID  \\\n",
       "0  0005019281       82       82          82          82          82   \n",
       "1  0005119367       73       73          73          73          73   \n",
       "2  0307141985        4        4           4           4           4   \n",
       "3  0307142469       31       31          31          31          31   \n",
       "4  0307142477        5        5           5           5           5   \n",
       "\n",
       "   reviewerName  summary  unixReviewTime  \n",
       "0            82       82              82  \n",
       "1            73       73              73  \n",
       "2             4        4               4  \n",
       "3            31       31              31  \n",
       "4             5        5               5  "
      ]
     },
     "execution_count": 13,
     "metadata": {},
     "output_type": "execute_result"
    }
   ],
   "source": [
    "asin_data.head()"
   ]
  },
  {
   "cell_type": "code",
   "execution_count": 14,
   "metadata": {},
   "outputs": [
    {
     "data": {
      "text/plain": [
       "(50050, 9)"
      ]
     },
     "execution_count": 14,
     "metadata": {},
     "output_type": "execute_result"
    }
   ],
   "source": [
    "asin_data.shape"
   ]
  },
  {
   "cell_type": "code",
   "execution_count": 15,
   "metadata": {
    "collapsed": true
   },
   "outputs": [],
   "source": [
    "# Create dataframe grouped by reviewer (reviewerID)\n",
    "reviewer_data = training_data.groupby('reviewerID').count()\n",
    "reviewer_data = reviewer_data.reset_index()"
   ]
  },
  {
   "cell_type": "code",
   "execution_count": 16,
   "metadata": {},
   "outputs": [
    {
     "data": {
      "text/html": [
       "<div>\n",
       "<style scoped>\n",
       "    .dataframe tbody tr th:only-of-type {\n",
       "        vertical-align: middle;\n",
       "    }\n",
       "\n",
       "    .dataframe tbody tr th {\n",
       "        vertical-align: top;\n",
       "    }\n",
       "\n",
       "    .dataframe thead th {\n",
       "        text-align: right;\n",
       "    }\n",
       "</style>\n",
       "<table border=\"1\" class=\"dataframe\">\n",
       "  <thead>\n",
       "    <tr style=\"text-align: right;\">\n",
       "      <th></th>\n",
       "      <th>reviewerID</th>\n",
       "      <th>asin</th>\n",
       "      <th>helpful</th>\n",
       "      <th>overall</th>\n",
       "      <th>reviewText</th>\n",
       "      <th>reviewTime</th>\n",
       "      <th>reviewerName</th>\n",
       "      <th>summary</th>\n",
       "      <th>unixReviewTime</th>\n",
       "    </tr>\n",
       "  </thead>\n",
       "  <tbody>\n",
       "    <tr>\n",
       "      <th>0</th>\n",
       "      <td>A00295401U6S2UG3RAQSZ</td>\n",
       "      <td>5</td>\n",
       "      <td>5</td>\n",
       "      <td>5</td>\n",
       "      <td>5</td>\n",
       "      <td>5</td>\n",
       "      <td>5</td>\n",
       "      <td>5</td>\n",
       "      <td>5</td>\n",
       "    </tr>\n",
       "    <tr>\n",
       "      <th>1</th>\n",
       "      <td>A00348066Q1WEW5BMESN</td>\n",
       "      <td>5</td>\n",
       "      <td>5</td>\n",
       "      <td>5</td>\n",
       "      <td>5</td>\n",
       "      <td>5</td>\n",
       "      <td>5</td>\n",
       "      <td>5</td>\n",
       "      <td>5</td>\n",
       "    </tr>\n",
       "    <tr>\n",
       "      <th>2</th>\n",
       "      <td>A0040548BPHKXMHH3NTI</td>\n",
       "      <td>8</td>\n",
       "      <td>8</td>\n",
       "      <td>8</td>\n",
       "      <td>8</td>\n",
       "      <td>8</td>\n",
       "      <td>8</td>\n",
       "      <td>8</td>\n",
       "      <td>8</td>\n",
       "    </tr>\n",
       "    <tr>\n",
       "      <th>3</th>\n",
       "      <td>A00438023NNXSDBGXK56L</td>\n",
       "      <td>4</td>\n",
       "      <td>4</td>\n",
       "      <td>4</td>\n",
       "      <td>4</td>\n",
       "      <td>4</td>\n",
       "      <td>4</td>\n",
       "      <td>4</td>\n",
       "      <td>4</td>\n",
       "    </tr>\n",
       "    <tr>\n",
       "      <th>4</th>\n",
       "      <td>A0048168OBFNFN7WW8XC</td>\n",
       "      <td>7</td>\n",
       "      <td>7</td>\n",
       "      <td>7</td>\n",
       "      <td>7</td>\n",
       "      <td>7</td>\n",
       "      <td>7</td>\n",
       "      <td>7</td>\n",
       "      <td>7</td>\n",
       "    </tr>\n",
       "  </tbody>\n",
       "</table>\n",
       "</div>"
      ],
      "text/plain": [
       "              reviewerID  asin  helpful  overall  reviewText  reviewTime  \\\n",
       "0  A00295401U6S2UG3RAQSZ     5        5        5           5           5   \n",
       "1   A00348066Q1WEW5BMESN     5        5        5           5           5   \n",
       "2   A0040548BPHKXMHH3NTI     8        8        8           8           8   \n",
       "3  A00438023NNXSDBGXK56L     4        4        4           4           4   \n",
       "4   A0048168OBFNFN7WW8XC     7        7        7           7           7   \n",
       "\n",
       "   reviewerName  summary  unixReviewTime  \n",
       "0             5        5               5  \n",
       "1             5        5               5  \n",
       "2             8        8               8  \n",
       "3             4        4               4  \n",
       "4             7        7               7  "
      ]
     },
     "execution_count": 16,
     "metadata": {},
     "output_type": "execute_result"
    }
   ],
   "source": [
    "reviewer_data.head()"
   ]
  },
  {
   "cell_type": "code",
   "execution_count": 17,
   "metadata": {},
   "outputs": [
    {
     "data": {
      "text/plain": [
       "(123952, 9)"
      ]
     },
     "execution_count": 17,
     "metadata": {},
     "output_type": "execute_result"
    }
   ],
   "source": [
    "reviewer_data.shape"
   ]
  },
  {
   "cell_type": "markdown",
   "metadata": {},
   "source": [
    "# Converting Dataframe to a CSR Matrix"
   ]
  },
  {
   "cell_type": "code",
   "execution_count": 18,
   "metadata": {
    "collapsed": true
   },
   "outputs": [],
   "source": [
    "# Pivot datarame and create Reviewer x Product matrix populated with ratings. Return tuple with sparse matrix and dataframe.\n",
    "def create_reviewer_product_matrix(dataframe):\n",
    "\n",
    "    # Pivot the dataframe so that unique reviewers are on the y axis and unique products are on the x axis.\n",
    "    # NOTE: Removed zeros in order to perform algebraic operations.\n",
    "    reviewer_product_dataframe = dataframe.pivot(index='reviewerID', columns='asin', values='overall').fillna(0)\n",
    "\n",
    "    # Convert the dataframe to a matrix.\n",
    "    # This matrix still contains NaN values.\n",
    "    reviewer_product_sparse = csr_matrix(reviewer_product_dataframe.values)\n",
    "\n",
    "    return (reviewer_product_sparse, reviewer_product_dataframe)"
   ]
  },
  {
   "cell_type": "code",
   "execution_count": 1,
   "metadata": {},
   "outputs": [
    {
     "ename": "NameError",
     "evalue": "name 'create_reviewer_product_matrix' is not defined",
     "output_type": "error",
     "traceback": [
      "\u001b[0;31m---------------------------------------------------------------------------\u001b[0m",
      "\u001b[0;31mNameError\u001b[0m                                 Traceback (most recent call last)",
      "\u001b[0;32m<ipython-input-1-7f79fc08bd03>\u001b[0m in \u001b[0;36m<module>\u001b[0;34m()\u001b[0m\n\u001b[0;32m----> 1\u001b[0;31m \u001b[0mreviewer_product_matrix\u001b[0m \u001b[0;34m=\u001b[0m \u001b[0mcreate_reviewer_product_matrix\u001b[0m\u001b[0;34m(\u001b[0m\u001b[0mtraining_data\u001b[0m\u001b[0;34m)\u001b[0m\u001b[0;34m\u001b[0m\u001b[0m\n\u001b[0m",
      "\u001b[0;31mNameError\u001b[0m: name 'create_reviewer_product_matrix' is not defined"
     ]
    }
   ],
   "source": [
    "reviewer_product_matrix = create_reviewer_product_matrix(training_data)"
   ]
  },
  {
   "cell_type": "code",
   "execution_count": null,
   "metadata": {
    "collapsed": true
   },
   "outputs": [],
   "source": [
    "reviewer_product_sparse = reviewer_product_matrix[0]"
   ]
  },
  {
   "cell_type": "code",
   "execution_count": null,
   "metadata": {
    "collapsed": true
   },
   "outputs": [],
   "source": [
    "reviewer_product_dataframe = reviewer_product_matrix[1]"
   ]
  },
  {
   "cell_type": "markdown",
   "metadata": {},
   "source": [
    "# Implementing K Nearest Neighbors"
   ]
  },
  {
   "cell_type": "code",
   "execution_count": 6,
   "metadata": {
    "collapsed": true
   },
   "outputs": [],
   "source": [
    "# Input a matrix and return a k_nn model using cosine similarity.\n",
    "# NOTE: In the future, this should be switched to a centered cosine.\n",
    "def k_nn(matrix):\n",
    "\n",
    "    try:\n",
    "        model_knn = NearestNeighbors(metric='cosine', algorithm='brute')\n",
    "        model_knn.fit(matrix)\n",
    "        return model_knn\n",
    "\n",
    "    except:\n",
    "        print('Please try another matrix.')\n",
    "        return None"
   ]
  },
  {
   "cell_type": "markdown",
   "metadata": {},
   "source": [
    "# Making Recommendations"
   ]
  },
  {
   "cell_type": "code",
   "execution_count": 7,
   "metadata": {
    "collapsed": true
   },
   "outputs": [],
   "source": [
    "def make_recommendations(dataframe):\n",
    "    query_index = np.random.choice(dataframe.shape[0])\n",
    "    distances, indices = model_knn.kneighbors(dataframe.iloc[query_index, :].values.reshape(1, -1), n_neighbors = 6)\n",
    "    for i in range(0, len(distances.flatten())):\n",
    "        if i == 0:\n",
    "            print('Nearest neighbors of {0}:\\n'.format(dataframe.index[query_index]))\n",
    "        else:\n",
    "            print('{0}: {1}, with distance of {2}:'.format(i, dataframe.index[indices.flatten()[i]], distances\n",
    "                                                           .flatten()[i]))\n",
    "    return None"
   ]
  },
  {
   "cell_type": "markdown",
   "metadata": {},
   "source": [
    "# Running Functions"
   ]
  },
  {
   "cell_type": "code",
   "execution_count": null,
   "metadata": {},
   "outputs": [],
   "source": [
    "# training_data = get_training_data('reviews.training.json')\n",
    "# convert_to_csv(shortened_training_data, 'shortened_training_data.csv')\n",
    "# reviewer_product_sparse = create_reviewer_product_matrix(training_data)[0]\n",
    "# reviewer_product_dataframe = create_reviewer_product_matrix(training_data)[1]\n",
    "model_knn = k_nn(reviewer_product_sparse)\n",
    "make_recommendations(reviewer_product_dataframe)"
   ]
  },
  {
   "cell_type": "code",
   "execution_count": null,
   "metadata": {
    "collapsed": true
   },
   "outputs": [],
   "source": []
  }
 ],
 "metadata": {
  "kernelspec": {
   "display_name": "Python 3",
   "language": "python",
   "name": "python3"
  },
  "language_info": {
   "codemirror_mode": {
    "name": "ipython",
    "version": 3
   },
   "file_extension": ".py",
   "mimetype": "text/x-python",
   "name": "python",
   "nbconvert_exporter": "python",
   "pygments_lexer": "ipython3",
   "version": "3.6.3"
  }
 },
 "nbformat": 4,
 "nbformat_minor": 2
}
