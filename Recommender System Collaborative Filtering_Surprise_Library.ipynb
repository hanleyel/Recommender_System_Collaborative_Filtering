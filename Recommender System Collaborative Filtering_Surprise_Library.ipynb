{
 "cells": [
  {
   "cell_type": "markdown",
   "metadata": {},
   "source": [
    "# Recommender System with Scikit Surprise SVD Model (Option 1)"
   ]
  },
  {
   "cell_type": "code",
   "execution_count": 3,
   "metadata": {
    "collapsed": true
   },
   "outputs": [],
   "source": [
    "import pandas as pd\n",
    "from surprise import SVD\n",
    "from surprise import Dataset, Reader\n",
    "from surprise.model_selection import cross_validate, train_test_split\n",
    "import csv"
   ]
  },
  {
   "cell_type": "code",
   "execution_count": null,
   "metadata": {
    "collapsed": true
   },
   "outputs": [],
   "source": [
    "# Unzip json data.\n",
    "def unzip_json(filename):\n",
    "    \n",
    "    print('Unzipping json file...')\n",
    "    \n",
    "    unzipped_data = pd.read_json(gzip.open(filename), lines=True)\n",
    "    \n",
    "    return unzipped_data"
   ]
  },
  {
   "cell_type": "code",
   "execution_count": null,
   "metadata": {
    "collapsed": true
   },
   "outputs": [],
   "source": [
    "unzip_json('reviews.training.json.gz')"
   ]
  },
  {
   "cell_type": "code",
   "execution_count": null,
   "metadata": {
    "collapsed": true
   },
   "outputs": [],
   "source": [
    "# Output json training data as a Pandas dataframe.\n",
    "def json_to_df(file_name):\n",
    "\n",
    "    print('Converting json file to dataframe...')\n",
    "\n",
    "    try:\n",
    "        training_data = pd.read_json(file_name, lines=True)\n",
    "        return training_data\n",
    "    except:\n",
    "        print('Please try another file name.')\n",
    "\n",
    "        return None"
   ]
  },
  {
   "cell_type": "code",
   "execution_count": null,
   "metadata": {
    "collapsed": true
   },
   "outputs": [],
   "source": [
    "training_df = json_to_df('reviews.training.json')"
   ]
  },
  {
   "cell_type": "code",
   "execution_count": null,
   "metadata": {
    "collapsed": true
   },
   "outputs": [],
   "source": [
    "def convert_to_csv(dataframe, desired_filename):\n",
    "\n",
    "    print('Converting dataframe to csv: ' + desired_filename + '...')\n",
    "\n",
    "    try:\n",
    "        return dataframe.to_csv(desired_filename, index=False)\n",
    "    except:\n",
    "        print('Please try another dataframe or file name.')\n",
    "\n",
    "    return None"
   ]
  },
  {
   "cell_type": "code",
   "execution_count": null,
   "metadata": {
    "collapsed": true
   },
   "outputs": [],
   "source": [
    "# Training file to CSV\n",
    "convert_to_csv(training_df[['reviewerID', 'asin', 'overall']], 'reviews.training.shortened.csv')"
   ]
  },
  {
   "cell_type": "code",
   "execution_count": 4,
   "metadata": {
    "collapsed": true,
    "scrolled": true
   },
   "outputs": [],
   "source": [
    "product_info_df = pd.read_csv('reviews.training.csv')"
   ]
  },
  {
   "cell_type": "code",
   "execution_count": 5,
   "metadata": {},
   "outputs": [
    {
     "data": {
      "text/html": [
       "<div>\n",
       "<style scoped>\n",
       "    .dataframe tbody tr th:only-of-type {\n",
       "        vertical-align: middle;\n",
       "    }\n",
       "\n",
       "    .dataframe tbody tr th {\n",
       "        vertical-align: top;\n",
       "    }\n",
       "\n",
       "    .dataframe thead th {\n",
       "        text-align: right;\n",
       "    }\n",
       "</style>\n",
       "<table border=\"1\" class=\"dataframe\">\n",
       "  <thead>\n",
       "    <tr style=\"text-align: right;\">\n",
       "      <th></th>\n",
       "      <th>reviewerID</th>\n",
       "      <th>asin</th>\n",
       "      <th>overall</th>\n",
       "    </tr>\n",
       "  </thead>\n",
       "  <tbody>\n",
       "    <tr>\n",
       "      <th>0</th>\n",
       "      <td>AMFIPCYDYWGVT</td>\n",
       "      <td>B0090SI56Y</td>\n",
       "      <td>4</td>\n",
       "    </tr>\n",
       "    <tr>\n",
       "      <th>1</th>\n",
       "      <td>A3G602Z4DWDZKS</td>\n",
       "      <td>B00005JL99</td>\n",
       "      <td>5</td>\n",
       "    </tr>\n",
       "    <tr>\n",
       "      <th>2</th>\n",
       "      <td>A33BOYMVG3U58Y</td>\n",
       "      <td>B00109KN0M</td>\n",
       "      <td>5</td>\n",
       "    </tr>\n",
       "    <tr>\n",
       "      <th>3</th>\n",
       "      <td>ANEDXRFDZDL18</td>\n",
       "      <td>B00005JMPT</td>\n",
       "      <td>5</td>\n",
       "    </tr>\n",
       "    <tr>\n",
       "      <th>4</th>\n",
       "      <td>A1VN7IS16PY024</td>\n",
       "      <td>B00005AAA9</td>\n",
       "      <td>4</td>\n",
       "    </tr>\n",
       "  </tbody>\n",
       "</table>\n",
       "</div>"
      ],
      "text/plain": [
       "       reviewerID        asin  overall\n",
       "0   AMFIPCYDYWGVT  B0090SI56Y        4\n",
       "1  A3G602Z4DWDZKS  B00005JL99        5\n",
       "2  A33BOYMVG3U58Y  B00109KN0M        5\n",
       "3   ANEDXRFDZDL18  B00005JMPT        5\n",
       "4  A1VN7IS16PY024  B00005AAA9        4"
      ]
     },
     "execution_count": 5,
     "metadata": {},
     "output_type": "execute_result"
    }
   ],
   "source": [
    "product_info_df.head()"
   ]
  },
  {
   "cell_type": "code",
   "execution_count": 11,
   "metadata": {
    "collapsed": true
   },
   "outputs": [],
   "source": [
    "# Surprise Reader object.\n",
    "reader = Reader(rating_scale=(1,5))"
   ]
  },
  {
   "cell_type": "code",
   "execution_count": 13,
   "metadata": {},
   "outputs": [],
   "source": [
    "# Load data from dataframe.\n",
    "data = Dataset.load_from_df(product_info_df, reader)"
   ]
  },
  {
   "cell_type": "code",
   "execution_count": 14,
   "metadata": {},
   "outputs": [],
   "source": [
    "# Split the training data into a training and test set.\n",
    "trainset, testset = train_test_split(data, test_size=.25)"
   ]
  },
  {
   "cell_type": "code",
   "execution_count": 15,
   "metadata": {},
   "outputs": [
    {
     "data": {
      "text/plain": [
       "<surprise.prediction_algorithms.matrix_factorization.SVD at 0x10707dbe0>"
      ]
     },
     "execution_count": 15,
     "metadata": {},
     "output_type": "execute_result"
    }
   ],
   "source": [
    "# Build an SVD model.\n",
    "model = SVD(n_factors=100)\n",
    "model.fit(trainset)"
   ]
  },
  {
   "cell_type": "code",
   "execution_count": 18,
   "metadata": {
    "scrolled": true
   },
   "outputs": [
    {
     "data": {
      "text/plain": [
       "(49958, 100)"
      ]
     },
     "execution_count": 18,
     "metadata": {},
     "output_type": "execute_result"
    }
   ],
   "source": [
    "# Get right term\n",
    "model.qi.shape"
   ]
  },
  {
   "cell_type": "code",
   "execution_count": 19,
   "metadata": {
    "collapsed": true
   },
   "outputs": [],
   "source": [
    "# Create movie title to vector index.\n",
    "item_to_row_idx: dict() = model.trainset._raw2inner_id_items"
   ]
  },
  {
   "cell_type": "code",
   "execution_count": 20,
   "metadata": {},
   "outputs": [],
   "source": [
    "# display(item_to_row_idx)"
   ]
  },
  {
   "cell_type": "code",
   "execution_count": 21,
   "metadata": {
    "collapsed": true
   },
   "outputs": [],
   "source": [
    "# Example product\n",
    "B00FZM8Z7I_row_idx: int = item_to_row_idx['B00FZM8Z7I']"
   ]
  },
  {
   "cell_type": "code",
   "execution_count": 22,
   "metadata": {
    "scrolled": true
   },
   "outputs": [
    {
     "data": {
      "text/plain": [
       "array([ 1.41288895e-02, -2.35135568e-01,  3.69059200e-02,  1.76900962e-01,\n",
       "        8.42053233e-02,  5.04901483e-02, -2.03473186e-01,  3.04355057e-01,\n",
       "        2.81804427e-01,  3.13461231e-01, -1.73493454e-01, -2.41344800e-01,\n",
       "       -2.78478097e-02,  2.41105261e-01,  3.08652211e-01, -2.39874775e-01,\n",
       "        2.31400998e-01, -2.58180490e-01,  1.79929186e-01,  1.71072044e-01,\n",
       "       -4.11862476e-01,  2.00915120e-01,  9.51611720e-02, -1.25761975e-02,\n",
       "       -2.25683871e-01, -1.41079589e-01,  1.37814979e-01, -2.95477558e-01,\n",
       "        2.52248801e-02, -1.22171242e-01, -1.00206810e-01, -1.04153978e-01,\n",
       "        1.61086384e-01,  2.07255157e-01,  2.39464245e-01,  4.75921273e-02,\n",
       "       -1.86969807e-01,  3.77990759e-02,  2.28628087e-03,  1.33699366e-01,\n",
       "        9.24115763e-02, -1.89383260e-01,  9.94011410e-02,  3.19276582e-01,\n",
       "        1.92084208e-01,  2.68771853e-01, -8.57109902e-03, -1.28815001e-02,\n",
       "       -1.20220783e-01, -2.15844853e-01, -2.15876901e-01,  2.28814891e-05,\n",
       "       -4.90951881e-01,  2.34629656e-01,  1.22027060e-02, -3.00406745e-01,\n",
       "        3.62327144e-02, -1.82899785e-01,  1.18293642e-01,  1.70143523e-01,\n",
       "       -3.18926470e-03,  1.48436645e-01,  8.70709413e-03,  1.65874853e-01,\n",
       "       -1.03945922e-01, -4.24337410e-01,  1.53977707e-01, -1.28744625e-01,\n",
       "        1.39195984e-01,  1.75216962e-01, -1.00274080e-01,  1.14571266e-01,\n",
       "       -7.68036006e-02, -1.98367247e-01, -6.45688083e-02, -8.56464178e-02,\n",
       "       -2.11694610e-01, -2.71938399e-02,  3.15773256e-01,  2.05256921e-02,\n",
       "       -3.95926250e-01, -7.13101976e-02, -1.95851212e-01, -2.32312914e-01,\n",
       "       -2.23147124e-01,  3.04161634e-02, -2.79893075e-01,  2.67538818e-01,\n",
       "       -9.45028865e-02,  1.31565304e-01, -1.17155573e-01,  2.51589558e-01,\n",
       "       -2.09950402e-01,  3.85833475e-01,  3.59831935e-01,  1.86967513e-01,\n",
       "        1.02337339e-01,  1.28266974e-01, -9.21164610e-02, -3.12437806e-01])"
      ]
     },
     "execution_count": 22,
     "metadata": {},
     "output_type": "execute_result"
    }
   ],
   "source": [
    "# Retrieve for example product.\n",
    "model.qi[B00FZM8Z7I_row_idx]"
   ]
  },
  {
   "cell_type": "code",
   "execution_count": 24,
   "metadata": {
    "collapsed": true
   },
   "outputs": [],
   "source": [
    "# Example user\n",
    "a_user = 'AMFIPCYDYWGVT'"
   ]
  },
  {
   "cell_type": "code",
   "execution_count": 25,
   "metadata": {
    "collapsed": true
   },
   "outputs": [],
   "source": [
    "# Example product\n",
    "a_product = 'B0090SI56Y'"
   ]
  },
  {
   "cell_type": "code",
   "execution_count": 26,
   "metadata": {},
   "outputs": [
    {
     "data": {
      "text/plain": [
       "3.9732198756480486"
      ]
     },
     "execution_count": 26,
     "metadata": {},
     "output_type": "execute_result"
    }
   ],
   "source": [
    "# Test prediction\n",
    "prediction = model.predict(a_user, a_product)\n",
    "prediction[3]"
   ]
  },
  {
   "cell_type": "code",
   "execution_count": 27,
   "metadata": {
    "collapsed": true
   },
   "outputs": [],
   "source": [
    "with open('reviews.test.unlabeled.csv', 'r') as test_file:\n",
    "    test_reader = csv.reader(test_file, delimiter=',')\n",
    "    next(test_reader, None)\n",
    "    with open('reviews.test.labeled.csv', 'w') as outfile:\n",
    "        outfile_reader = csv.writer(outfile, delimiter=',')\n",
    "        outfile_reader.writerow(['datapointID', 'overall'])\n",
    "        \n",
    "        for row in test_reader:\n",
    "            prediction = model.predict(row[1], row[2])\n",
    "            outfile_reader.writerow([row[0], prediction[3]])"
   ]
  },
  {
   "cell_type": "code",
   "execution_count": 38,
   "metadata": {
    "collapsed": true
   },
   "outputs": [],
   "source": [
    "import random"
   ]
  },
  {
   "cell_type": "code",
   "execution_count": 45,
   "metadata": {},
   "outputs": [
    {
     "name": "stdout",
     "output_type": "stream",
     "text": [
      "3\n",
      "1\n",
      "4\n",
      "3\n",
      "1\n",
      "4\n",
      "4\n",
      "4\n",
      "3\n",
      "2\n"
     ]
    }
   ],
   "source": [
    "for ele in list(range(0, 10)):\n",
    "    rand = random.randrange(1,5,1)\n",
    "    print(rand)"
   ]
  },
  {
   "cell_type": "code",
   "execution_count": null,
   "metadata": {
    "collapsed": true
   },
   "outputs": [],
   "source": []
  },
  {
   "cell_type": "code",
   "execution_count": null,
   "metadata": {
    "collapsed": true
   },
   "outputs": [],
   "source": []
  }
 ],
 "metadata": {
  "kernelspec": {
   "display_name": "Python 3",
   "language": "python",
   "name": "python3"
  },
  "language_info": {
   "codemirror_mode": {
    "name": "ipython",
    "version": 3
   },
   "file_extension": ".py",
   "mimetype": "text/x-python",
   "name": "python",
   "nbconvert_exporter": "python",
   "pygments_lexer": "ipython3",
   "version": "3.6.3"
  }
 },
 "nbformat": 4,
 "nbformat_minor": 2
}
