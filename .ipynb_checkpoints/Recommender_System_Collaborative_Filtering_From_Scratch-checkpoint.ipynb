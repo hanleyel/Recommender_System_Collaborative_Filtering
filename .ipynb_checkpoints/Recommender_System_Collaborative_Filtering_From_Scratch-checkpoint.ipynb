{
 "cells": [
  {
   "cell_type": "code",
   "execution_count": 1,
   "metadata": {
    "collapsed": true
   },
   "outputs": [],
   "source": [
    "import pandas as pd\n",
    "import json\n",
    "import gzip\n",
    "import numpy as np\n",
    "import scipy\n",
    "from scipy.sparse import csr_matrix\n",
    "from scipy.sparse import csc_matrix\n",
    "from scipy.sparse.linalg import svds\n",
    "from sklearn.neighbors import NearestNeighbors\n",
    "from sklearn.preprocessing import normalize\n",
    "import csv\n",
    "from sparsesvd import sparsesvd\n",
    "import math\n",
    "import operator"
   ]
  },
  {
   "cell_type": "code",
   "execution_count": 2,
   "metadata": {
    "collapsed": true
   },
   "outputs": [],
   "source": [
    "def unzip_json(filename):\n",
    "    print('Unzipping json file...')\n",
    "    unzipped_data = pd.read_json(gzip.open(filename))\n",
    "    return unzipped_data"
   ]
  },
  {
   "cell_type": "code",
   "execution_count": 3,
   "metadata": {
    "collapsed": true
   },
   "outputs": [],
   "source": [
    "# Output json training data as a Pandas dataframe.\n",
    "def json_to_df(file_name):\n",
    "\n",
    "    print('Converting json file to dataframe...')\n",
    "\n",
    "    try:\n",
    "        training_data = pd.read_json(file_name, lines=True)\n",
    "        return training_data\n",
    "    except:\n",
    "        print('Please try another file name.')\n",
    "\n",
    "        return None"
   ]
  },
  {
   "cell_type": "code",
   "execution_count": 4,
   "metadata": {
    "collapsed": true
   },
   "outputs": [],
   "source": [
    "def convert_to_csv(dataframe, desired_filename):\n",
    "\n",
    "    print('Converting dataframe to csv: ' + desired_filename + '...')\n",
    "\n",
    "    try:\n",
    "        return dataframe.to_csv(desired_filename, index=False)\n",
    "    except:\n",
    "        print('Please try another dataframe or file name.')\n",
    "\n",
    "    return None"
   ]
  },
  {
   "cell_type": "code",
   "execution_count": 5,
   "metadata": {
    "collapsed": true
   },
   "outputs": [],
   "source": [
    "# Returns dictionaries with unique users and products as keys and unique ints as values.\n",
    "def create_user_product_dicts(filename):\n",
    "\n",
    "    print('Creating dictionaries from CSV for unique users and products...')\n",
    "\n",
    "    user_dict = {}\n",
    "    product_dict = {}\n",
    "    user_count = 0\n",
    "    product_count = 0\n",
    "\n",
    "    with open(filename, 'r') as train_file:\n",
    "        file_reader=csv.reader(train_file, delimiter=',')\n",
    "        next(file_reader, None)\n",
    "\n",
    "        for row in file_reader:\n",
    "            if row[0] not in user_dict:\n",
    "                user_dict[row[0]] = user_count\n",
    "                user_count += 1\n",
    "            if row[1] not in product_dict:\n",
    "                product_dict[row[1]] = product_count\n",
    "                product_count += 1\n",
    "\n",
    "    print('Len user and product dicts')\n",
    "    print(len(user_dict))\n",
    "    print(len(product_dict))\n",
    "    # print(product_dict)\n",
    "\n",
    "    print('Getting largest values')\n",
    "    print('Users: ')\n",
    "    lg_user = max(user_dict.items(), key=operator.itemgetter(1))[0]\n",
    "    print(lg_user)\n",
    "    print(user_dict[lg_user])\n",
    "    print('Products: ')\n",
    "    lg_prod = max(product_dict.items(), key=operator.itemgetter(1))[0]\n",
    "    print(lg_prod)\n",
    "    print(product_dict[lg_prod])\n",
    "\n",
    "    print('User and items end counts')\n",
    "    print('users:')\n",
    "    print(user_count)\n",
    "    print('products: ')\n",
    "    print(product_count)\n",
    "\n",
    "    print('dict lengths:')\n",
    "    print('user')\n",
    "    print(len(user_dict))\n",
    "    print('products: ')\n",
    "    print(len(product_dict))\n",
    "\n",
    "    return user_dict, product_dict, user_count, product_count"
   ]
  },
  {
   "cell_type": "code",
   "execution_count": 6,
   "metadata": {},
   "outputs": [
    {
     "name": "stdout",
     "output_type": "stream",
     "text": [
      "Creating dictionaries from CSV for unique users and products...\n",
      "Len user and product dicts\n",
      "969\n",
      "944\n",
      "Getting largest values\n",
      "Users: \n",
      "A9TG2NFA614S9\n",
      "968\n",
      "Products: \n",
      "B0000DKDUR\n",
      "943\n",
      "User and items end counts\n",
      "users:\n",
      "969\n",
      "products: \n",
      "944\n",
      "dict lengths:\n",
      "user\n",
      "969\n",
      "products: \n",
      "944\n"
     ]
    }
   ],
   "source": [
    "user_dict, product_dict, user_count, product_count = create_user_product_dicts('reviews.test.shortened.csv')"
   ]
  },
  {
   "cell_type": "code",
   "execution_count": 7,
   "metadata": {},
   "outputs": [
    {
     "name": "stdout",
     "output_type": "stream",
     "text": [
      "969\n"
     ]
    }
   ],
   "source": [
    "print(len(user_dict))"
   ]
  },
  {
   "cell_type": "code",
   "execution_count": 8,
   "metadata": {
    "collapsed": true
   },
   "outputs": [],
   "source": [
    "def training_mtx(filename, user_dict, product_dict):\n",
    "\n",
    "        print('Creating a dense matrix from training data...')\n",
    "\n",
    "        num_user_ids = len(user_dict)\n",
    "        num_product_ids = len(product_dict)\n",
    "\n",
    "        dense_matrix = np.zeros(shape=(num_user_ids, num_product_ids), dtype=np.float32)\n",
    "        \n",
    "        print(dense_matrix.shape)\n",
    "\n",
    "        with open(filename, 'r') as train_file:\n",
    "            matrix_reader = csv.reader(train_file, delimiter=',')\n",
    "            next(matrix_reader, None)\n",
    "            for row in matrix_reader:\n",
    "                dense_matrix[user_dict[row[0]], product_dict[row[1]]] = float(row[2])\n",
    "\n",
    "        print('training matrix shape: ')\n",
    "        print(dense_matrix.shape)\n",
    "        print(dense_matrix)\n",
    "        \n",
    "        print(dense_matrix.shape)\n",
    "\n",
    "        return dense_matrix"
   ]
  },
  {
   "cell_type": "code",
   "execution_count": 9,
   "metadata": {},
   "outputs": [
    {
     "name": "stdout",
     "output_type": "stream",
     "text": [
      "Creating a dense matrix from training data...\n",
      "(969, 944)\n",
      "training matrix shape: \n",
      "(969, 944)\n",
      "[[5. 0. 0. ... 0. 0. 0.]\n",
      " [0. 2. 0. ... 0. 0. 0.]\n",
      " [0. 0. 5. ... 0. 0. 0.]\n",
      " ...\n",
      " [0. 0. 0. ... 0. 0. 0.]\n",
      " [0. 0. 0. ... 2. 0. 0.]\n",
      " [0. 0. 0. ... 0. 5. 0.]]\n",
      "(969, 944)\n"
     ]
    },
    {
     "data": {
      "text/plain": [
       "array([[5., 0., 0., ..., 0., 0., 0.],\n",
       "       [0., 2., 0., ..., 0., 0., 0.],\n",
       "       [0., 0., 5., ..., 0., 0., 0.],\n",
       "       ...,\n",
       "       [0., 0., 0., ..., 0., 0., 0.],\n",
       "       [0., 0., 0., ..., 2., 0., 0.],\n",
       "       [0., 0., 0., ..., 0., 5., 0.]], dtype=float32)"
      ]
     },
     "execution_count": 9,
     "metadata": {},
     "output_type": "execute_result"
    }
   ],
   "source": [
    "training_mtx('reviews.test.shortened.csv', user_dict, product_dict)"
   ]
  },
  {
   "cell_type": "code",
   "execution_count": 10,
   "metadata": {
    "collapsed": true
   },
   "outputs": [],
   "source": [
    "# Outputs dictionaries with unique test users and test products.\n",
    "def get_test_users_products(filename, training_user_dict, training_product_dict, user_count, product_count):\n",
    "    \n",
    "    print(len(training_user_dict))\n",
    "    print(len(training_product_dict))\n",
    "\n",
    "    print('Importing test users and products...')\n",
    "\n",
    "    test_user_count = user_count\n",
    "    test_product_count = product_count\n",
    "    test_user_dict = training_user_dict.copy()\n",
    "    test_product_dict = training_product_dict.copy()\n",
    "\n",
    "    with open(filename, 'r') as test_file:\n",
    "        test_reader = csv.reader(test_file, delimiter=',')\n",
    "        next(test_reader, None)\n",
    "\n",
    "        for row in test_reader:\n",
    "            # Add unique users to test_user dictionary.\n",
    "            if row[1] not in test_user_dict:\n",
    "                test_user_dict[row[1]] = test_user_count\n",
    "                test_user_count += 1\n",
    "            # Add unique products to test_product dictionary.\n",
    "            if row[2] not in test_product_dict:\n",
    "                test_product_dict[row[2]] = test_product_count\n",
    "                test_product_count += 1\n",
    "\n",
    "    print('Len test dicts, user and product: ')\n",
    "    print(len(test_user_dict))\n",
    "    print(len(test_product_dict))\n",
    "    print('Len test user and product counts: ')\n",
    "    print(test_user_count)\n",
    "    print(test_product_count)\n",
    "    # print(test_user_dict)\n",
    "    # print(test_product_dict)\n",
    "    \n",
    "    print('Training user and product dict lengths: ')\n",
    "    print(len(training_user_dict))\n",
    "    print(len(training_product_dict))\n",
    "\n",
    "    return test_user_dict, test_product_dict"
   ]
  },
  {
   "cell_type": "code",
   "execution_count": 11,
   "metadata": {},
   "outputs": [
    {
     "name": "stdout",
     "output_type": "stream",
     "text": [
      "969\n",
      "944\n",
      "Importing test users and products...\n",
      "Len test dicts, user and product: \n",
      "1925\n",
      "949\n",
      "Len test user and product counts: \n",
      "1925\n",
      "949\n",
      "Training user and product dict lengths: \n",
      "969\n",
      "944\n"
     ]
    }
   ],
   "source": [
    "test_user_dict, test_product_dict = get_test_users_products('reviews.dev.shortened.csv', user_dict, product_dict,\n",
    "                                                            user_count, product_count)"
   ]
  },
  {
   "cell_type": "code",
   "execution_count": 12,
   "metadata": {},
   "outputs": [
    {
     "name": "stdout",
     "output_type": "stream",
     "text": [
      "{'B000CDSS22': 0, '6305186774': 1, 'B004LWZW24': 2, 'B00001U0DM': 3, 'B00005JOZI': 4, 'B0002ZMHWM': 5, '6305426678': 6, 'B005ER6SNM': 7, 'B005LAIIJY': 8, 'B004EPYZUS': 9, 'B0001NBNJ8': 10, 'B00BBAQD6S': 11, 'B003EYVXSW': 12, '6304431856': 13, '6305364664': 14, 'B000HEVZ7G': 15, 'B00005JLZN': 16, 'B00005UQ9W': 17, 'B00006C7G9': 18, 'B0050N0UR0': 19, '6302038308': 20, 'B000FDECEM': 21, 'B00003CXKM': 22, 'B000VY1EYG': 23, 'B00B52F278': 24, '6302098440': 25, 'B002WIDRLC': 26, 'B002BWP3UC': 27, '6305499071': 28, '6305426651': 29, '0767813871': 30, 'B000055WAO': 31, '078323211X': 32, 'B0002Y4PPK': 33, '0800141660': 34, 'B00019G3BK': 35, 'B00118VEJ6': 36, 'B0006FFRB6': 37, 'B00005JPS8': 38, '6304697961': 39, '6302636779': 40, 'B008JFUOWM': 41, 'B00005Y6XI': 42, 'B00008W64E': 43, 'B0002I84JO': 44, '6302919509': 45, '0792154649': 46, '079284615X': 47, 'B0070B9SKU': 48, 'B000A6T1J0': 49, '6300248569': 50, 'B00000F3SU': 51, 'B006X040NY': 52, '630126939X': 53, 'B001KZIRKY': 54, 'B0018CNNV2': 55, 'B000E1MTZE': 56, 'B001VLBDB2': 57, 'B000T28PGA': 58, 'B000AS4L16': 59, '0790747219': 60, '6305076464': 61, 'B00C5W3SBE': 62, 'B007BMIG24': 63, 'B00DL48BM6': 64, 'B0030AM6XQ': 65, 'B00BX8PG4S': 66, '6300216543': 67, '0780621980': 68, 'B00064AFF0': 69, '6301930746': 70, '0790744759': 71, '0790732009': 72, 'B0031RAOVY': 73, 'B00005QAQI': 74, 'B000050NS2': 75, 'B002UNMW7O': 76, '0767853636': 77, '6300181278': 78, 'B000A3DGEY': 79, '0780656946': 80, 'B0034JKZ3G': 81, 'B000WGWQG8': 82, 'B0009ZE9DK': 83, '0792844904': 84, 'B000BTJDG2': 85, 'B000CQO6IY': 86, 'B000RXZIKW': 87, '0790732254': 88, 'B008JFUNKU': 89, 'B000NY1EDK': 90, 'B00003OSTY': 91, 'B000W1SZ9U': 92, '6302289017': 93, '1571324453': 94, 'B00064LJVE': 95, '0790740060': 96, '0783227507': 97, 'B001KVZ6HK': 98, '0780623614': 99, '6301017129': 100, 'B000EHQ86O': 101, 'B003Y5H5B0': 102, 'B00005JPXP': 103, 'B005IZLPKQ': 104, '630401144X': 105, '7883706837': 106, 'B0079K4XW0': 107, 'B000ATQYVK': 108, 'B000GUJYZQ': 109, 'B002ZG994U': 110, '6301697286': 111, 'B005FISC3Y': 112, 'B00008WJEZ': 113, 'B0058YPN0U': 114, '6305973237': 115, '0783230346': 116, 'B0002234LS': 117, '0767836359': 118, '6304935811': 119, 'B005LAII58': 120, '0792838408': 121, 'B0001WTWDI': 122, 'B009MO5FGY': 123, '6304004540': 124, '6302219205': 125, '630179818X': 126, 'B00003CWT6': 127, 'B00005JNTU': 128, 'B000E991RU': 129, 'B008220C38': 130, 'B005LAIH0O': 131, 'B004A8ZX28': 132, 'B002M4CH94': 133, 'B00BVMXBDO': 134, 'B0029WGIDK': 135, 'B009AF5OY8': 136, 'B000VSDNHS': 137, '0783229364': 138, '6300252051': 139, 'B001F0TM4Y': 140, '079073463X': 141, 'B000003KHS': 142, 'B00003CXXO': 143, 'B00006LPHA': 144, '6304784376': 145, 'B00HUCF7AO': 146, 'B000EQ5UHI': 147, 'B002LE8MGW': 148, '6303236685': 149, 'B0043CT8KO': 150, '0792842081': 151, 'B00003CWOT': 152, 'B002VRNIZO': 153, 'B00742SXOM': 154, 'B0053O89WY': 155, 'B00008RH15': 156, 'B0001VL0K2': 157, '6304853890': 158, 'B000OYCMLM': 159, 'B004QL7K70': 160, 'B00005RRJL': 161, '0783226799': 162, '1419819100': 163, 'B0000B1OFL': 164, 'B000U6YJME': 165, '0780625900': 166, 'B005LAII12': 167, '0790747545': 168, '0767817710': 169, 'B00005TPMA': 170, 'B001OQCV6A': 171, '6305297525': 172, 'B000MGBSE4': 173, 'B00187FPC2': 174, 'B0002YLCHO': 175, 'B002LFPAUM': 176, 'B0024HH2WG': 177, 'B005LAIH86': 178, 'B00005JMYF': 179, '0310263662': 180, 'B00CENSU1W': 181, 'B000069DOB': 182, 'B002ZG98R8': 183, '0780021541': 184, '6301964209': 185, 'B000FFL2G6': 186, 'B00175VSBC': 187, 'B004ZJ9W3S': 188, '1404983082': 189, '0800109481': 190, 'B0001DMY1E': 191, 'B0000TANUI': 192, '0792169182': 193, 'B005S9EL08': 194, 'B00005JM02': 195, '0780622537': 196, 'B004LWZW7E': 197, '0783235682': 198, 'B009AMANBA': 199, 'B004NSUXHU': 200, '0792845129': 201, 'B00005JP03': 202, 'B0002NY8R6': 203, '157362408X': 204, 'B002P7UCJ0': 205, 'B000MAT6MQ': 206, 'B001VPJZ0O': 207, 'B00004WG2E': 208, '0783224079': 209, '6300269450': 210, 'B009RX7WTI': 211, 'B004GYKNOE': 212, '0792834976': 213, 'B004XCM89M': 214, 'B000R9J3XO': 215, 'B00GST8RJ8': 216, '6300214338': 217, '630015002X': 218, 'B000642008': 219, 'B006S2WBHY': 220, '6303631940': 221, '0767020308': 222, '6301157141': 223, '6305126062': 224, '6301932838': 225, 'B000KX0IPY': 226, 'B003GAMOIW': 227, 'B0009S4J2I': 228, 'B0001WNL26': 229, 'B001UW59JO': 230, '6303957064': 231, '6302595770': 232, '6303504779': 233, '6302517052': 234, '0783240287': 235, '6300182665': 236, '6302206294': 237, '0792151712': 238, 'B004BDOEZO': 239, 'B006P0FIB0': 240, '0767811410': 241, 'B001N26HFG': 242, '6303878296': 243, 'B004HO6I4M': 244, '6301969294': 245, '6301959957': 246, 'B004V2S4Z6': 247, 'B00ARA4SLU': 248, '6300151379': 249, 'B00005JM4Z': 250, 'B002ZG9968': 251, '6302862698': 252, '6300215741': 253, 'B00005JLSK': 254, 'B00006EDPI': 255, 'B00HLSW6TW': 256, 'B000CDGVOE': 257, '0780620372': 258, 'B000ZECQ08': 259, 'B004LWZW9W': 260, 'B000ZOXDFA': 261, 'B00C7T0EPS': 262, 'B000HA4WS4': 263, 'B0002B15UQ': 264, 'B00005LIRQ': 265, '6302794331': 266, 'B000OCY7TY': 267, 'B004QOB8TI': 268, 'B0073U2ETK': 269, 'B000068TQ7': 270, 'B001ARDBXK': 271, '6305186677': 272, 'B000QFCD8Q': 273, 'B00004W5XY': 274, 'B00005LQ05': 275, '6302872766': 276, 'B00005JPAS': 277, 'B00003CY67': 278, 'B00H9KKGTO': 279, 'B000E5KQOQ': 280, '6300214117': 281, 'B00003CXT7': 282, '6302932874': 283, 'B002M3JJE6': 284, '079074404X': 285, 'B00003CXWL': 286, 'B001760DGW': 287, 'B001ZXRGKS': 288, 'B0000633U6': 289, 'B00005JNTI': 290, 'B00466HOR6': 291, 'B00623N4XE': 292, '630543848X': 293, 'B005S9ELVC': 294, 'B002VECMB8': 295, 'B0000AQS0F': 296, 'B00CAATSME': 297, 'B0007NFMB2': 298, 'B000QGE8MY': 299, 'B00B74MJOS': 300, 'B000A0GOF0': 301, 'B00915G6R6': 302, '078322544X': 303, 'B00BEJL5LE': 304, 'B003YCL0YG': 305, '6300274268': 306, 'B005D0RDH0': 307, 'B00005221I': 308, '6305123616': 309, '6302760046': 310, '6303610781': 311, '6301966988': 312, 'B0007KIFNC': 313, 'B00004Y6A5': 314, '0783240171': 315, 'B001LMAK9W': 316, 'B000059H6T': 317, 'B00005UQ9F': 318, 'B009AMAGQM': 319, 'B00003CXQA': 320, 'B0000DJZAC': 321, 'B000XT1P48': 322, 'B004LWZWFQ': 323, '0790743272': 324, '6305326940': 325, 'B0033AGJ5Y': 326, 'B005E2YL4U': 327, 'B000F7CMPE': 328, 'B000GY728I': 329, '6300276945': 330, 'B000ICLRKW': 331, 'B002BEXF9G': 332, 'B005LAIHXQ': 333, 'B004A77G10': 334, 'B000SFJ4K4': 335, 'B00008R9KQ': 336, 'B002ONC9W8': 337, 'B00003CYJ4': 338, 'B0001GV4PI': 339, 'B00007AJGJ': 340, 'B00BG4RJG2': 341, 'B00275EGNS': 342, 'B0014BQR6U': 343, 'B00005NTOH': 344, 'B009LDCVAE': 345, 'B003UD7J6W': 346, 'B002TQKL16': 347, 'B0002HODKO': 348, 'B000UZDO62': 349, 'B0009MAO3M': 350, 'B004A8ZWW4': 351, 'B001NPD9R2': 352, '6304863535': 353, 'B0009NZ2VU': 354, 'B000NA1W2W': 355, 'B00465I156': 356, 'B000BD1LB8': 357, 'B00A27OMKU': 358, '6303082866': 359, 'B000E1MTYK': 360, 'B00BTFK07I': 361, 'B004NBY242': 362, '0767802659': 363, 'B0041NZMSM': 364, 'B0087IT80A': 365, 'B00A2YFPXQ': 366, 'B00BD6KETC': 367, 'B0001XAPX8': 368, 'B000BT96FA': 369, 'B004MCGNTO': 370, 'B00009PJT0': 371, 'B00BEIYHO2': 372, 'B00005JM2Y': 373, 'B0002I84FS': 374, 'B003L20IE2': 375, '6304274807': 376, 'B0030BS1G6': 377, '1573628522': 378, 'B00005JP0F': 379, 'B0000C9JFO': 380, '0793910471': 381, 'B005LAII7G': 382, 'B000GIXLVQ': 383, 'B0090JB6DC': 384, 'B00005N5SH': 385, 'B008JFUNHI': 386, 'B00005N89G': 387, '0780622642': 388, 'B0006HBJJS': 389, 'B004YM6JI2': 390, 'B0094GWPOU': 391, '6302717299': 392, 'B000E33VYU': 393, '6300246973': 394, '0790742802': 395, '6304176287': 396, '078323502X': 397, '1564427099': 398, 'B0038M2APA': 399, 'B00BEIYMAG': 400, 'B0002XVKMC': 401, '6305976414': 402, 'B005LAII44': 403, 'B001AGZJ0E': 404, 'B000A8NZ0O': 405, 'B0002Z0EXQ': 406, 'B000TJ6P88': 407, 'B00005R1NH': 408, 'B00009LHYL': 409, '6302989493': 410, '0783232047': 411, 'B000MEYKDM': 412, 'B00005JPOE': 413, '0767816234': 414, 'B001D7T6N6': 415, 'B00008NRI7': 416, 'B00000JDIQ': 417, 'B0007RUSGW': 418, 'B006512BFU': 419, 'B0034G4ORC': 420, 'B00FM4S8H6': 421, 'B008JFUS8M': 422, '6302645891': 423, 'B003Y5H54W': 424, 'B00FMR66J0': 425, 'B001PR0Y4O': 426, 'B005LAIHR2': 427, '1591791847': 428, 'B00006IUFW': 429, '6305169187': 430, 'B00004ZEQW': 431, 'B005LL4U4A': 432, 'B005LAIIMG': 433, '0790732920': 434, 'B00005U14H': 435, '0790701022': 436, 'B0002Y69NG': 437, '0792845145': 438, '6305972796': 439, 'B0000BWVMF': 440, 'B00005V3Z4': 441, '6305074305': 442, 'B0006SSOHC': 443, 'B007REV4LQ': 444, '0788811355': 445, 'B000J3OTO6': 446, 'B001NJ19KW': 447, 'B00003CXRY': 448, 'B00H7LINKE': 449, 'B00GM4OUZE': 450, 'B00006DXXT': 451, 'B002IKIHE6': 452, 'B0000A1HPU': 453, 'B00BEIYSL4': 454, 'B00005U122': 455, '0767819640': 456, 'B007T40F14': 457, '6305108056': 458, 'B004A8ZWVK': 459, 'B000AMJG5I': 460, '6300215695': 461, 'B00B8PRDHE': 462, 'B001FB55L2': 463, 'B004QL7K6G': 464, '6300271285': 465, 'B000BGH2HC': 466, 'B000JBXHQY': 467, 'B00007F8OC': 468, 'B00004CYNF': 469, 'B00BEIYKX0': 470, 'B000EULSR0': 471, 'B00BEIYN9Q': 472, 'B003MSYXMS': 473, 'B00005JPAM': 474, 'B003WE9C5U': 475, '6303313329': 476, '630506685X': 477, 'B00005JPT0': 478, 'B00116GEFW': 479, '0790745399': 480, 'B0001LJCX4': 481, 'B005LAIH4A': 482, 'B009D4RPIE': 483, '6305949662': 484, 'B0041KKYHY': 485, 'B00004VVP1': 486, 'B0012Z36FI': 487, '630021463X': 488, 'B004EPYZO4': 489, 'B001JNNDC4': 490, 'B000I2JCAY': 491, '6300270408': 492, 'B000KLQUV2': 493, 'B000X843UC': 494, 'B0017INRGI': 495, 'B000GEIRAU': 496, '6301357264': 497, '6304872402': 498, 'B001TKNWVE': 499, 'B000KX0HH8': 500, 'B0010YSD7M': 501, '6300214346': 502, 'B00005JCKU': 503, 'B001DZOC46': 504, 'B0017CW5T4': 505, '0783226152': 506, 'B00111YM5Q': 507, '0792845749': 508, 'B00003CXE6': 509, 'B00AMR5FGA': 510, '0784011516': 511, 'B000ZN802W': 512, 'B00BY8DEW8': 513, 'B000LW7L04': 514, 'B0019N8P2W': 515, 'B00915G6TE': 516, 'B000H6SXTW': 517, 'B002945DU2': 518, 'B0001O3YLM': 519, '6304711913': 520, '0792842499': 521, 'B00001ZWTS': 522, 'B004EPYZT4': 523, 'B00004YS99': 524, '0783116926': 525, 'B000003K9E': 526, 'B00008HC9X': 527, 'B004QSQMJ0': 528, '6301797922': 529, '630018675X': 530, 'B000HDZK1Y': 531, 'B005LAIGSM': 532, 'B003FSTN5W': 533, 'B002K0WBVE': 534, '6304935870': 535, '0792898974': 536, '6303306551': 537, 'B00006HAZ4': 538, '0790736055': 539, 'B0045SPAI0': 540, '157330042X': 541, 'B0007WQGR2': 542, '630253027X': 543, 'B0011U52E2': 544, 'B00005JOKM': 545, 'B0007Z2556': 546, '0790747693': 547, '0800128052': 548, 'B00005Q4ED': 549, 'B00CS5RBPM': 550, 'B002LVGXHK': 551, 'B00G7QPXAI': 552, '0792840089': 553, '6302814146': 554, 'B005LAIHUO': 555, 'B0002XVQSU': 556, 'B000EMG9NG': 557, 'B000M343B2': 558, 'B00004ZDFL': 559, 'B00004YS9G': 560, 'B007MDB6Y2': 561, 'B0073U2F12': 562, 'B006LL3WAM': 563, 'B00006LPHG': 564, '6300214419': 565, 'B00GBT61YS': 566, 'B00005JOQB': 567, '6300213986': 568, 'B0009VRHNI': 569, 'B0000BWVAH': 570, 'B00CHVIAS4': 571, 'B00005JND5': 572, 'B000PISZ86': 573, 'B00008K7AO': 574, 'B00005JMQY': 575, 'B0085Z3A4A': 576, 'B00006HBUA': 577, 'B004LWZW9C': 578, 'B000Q6GUT8': 579, 'B00465I1BK': 580, 'B002LMV7Q6': 581, 'B00AZMFO6I': 582, 'B000YDBP34': 583, '6301480465': 584, 'B00005JOBU': 585, '0792837959': 586, 'B00000JZHG': 587, 'B00005JMA8': 588, 'B005LAIH9K': 589, 'B000TEUSMC': 590, 'B00007I6FP': 591, 'B00D2UMHU6': 592, 'B000L2125O': 593, '6300181367': 594, 'B000GAKLZI': 595, 'B00005JPTK': 596, 'B004U2RBGU': 597, 'B001DELWZY': 598, 'B002ZG98LO': 599, 'B0002IQMAM': 600, 'B00024JBAE': 601, '6305657939': 602, '6305773122': 603, 'B008JFUNTG': 604, 'B000065R11': 605, 'B001QU9RSY': 606, '079074841X': 607, 'B002EWD0CW': 608, 'B00068ULLY': 609, 'B0002WZTLQ': 610, 'B0038M2AWI': 611, 'B00000F8KW': 612, 'B001PKHS6S': 613, '630212042X': 614, 'B00A7F0LDY': 615, 'B000E5KUME': 616, 'B003Y5H5H4': 617, '630018241X': 618, 'B0084IHVIY': 619, 'B001C5LLPU': 620, 'B000A6T1X6': 621, 'B0058YPG1G': 622, 'B000PC8AKU': 623, '1559409037': 624, '6300269043': 625, 'B000VWQUE2': 626, 'B0023S4A12': 627, 'B000G5SIEO': 628, 'B00E5S2HGS': 629, '630595805X': 630, '6303507565': 631, '6305112878': 632, 'B00005IA89': 633, '6303954197': 634, 'B004J328YA': 635, 'B0001ME5DU': 636, '6304597630': 637, 'B000NO241G': 638, 'B00FRILRL6': 639, 'B009MO57H6': 640, 'B00063MCI4': 641, 'B007M8SAFK': 642, '0783216084': 643, 'B000BHZ2BO': 644, 'B000ROAK2W': 645, '6302037123': 646, 'B001VGL0I8': 647, 'B005HWAOLQ': 648, 'B00BEIYKDU': 649, '0792838963': 650, 'B00K2CHVJ4': 651, 'B000G75AZC': 652, 'B000VNMMQ6': 653, 'B00004W5SS': 654, 'B0059XTU1S': 655, 'B008JFUO36': 656, 'B000066JBR': 657, '0780627024': 658, 'B0038RSIEW': 659, 'B004K4FUUC': 660, 'B002ZG984Q': 661, 'B002UOMGWO': 662, '6300183890': 663, 'B0002CX224': 664, 'B000R7HY0K': 665, 'B00003CXLV': 666, 'B002TVQ4E4': 667, 'B003UESJH4': 668, 'B00006AVRK': 669, '6301978595': 670, 'B000RL5H6Y': 671, '6301969871': 672, '155890848X': 673, 'B00AYJBTS4': 674, 'B0007P0Y7C': 675, 'B00BUUAV08': 676, 'B004X4O988': 677, 'B00000FE1O': 678, '6302878527': 679, 'B003YNZTJW': 680, '6301968824': 681, 'B000E1ZB9U': 682, 'B009NNMAZI': 683, '6301231732': 684, '1419838830': 685, '6301798732': 686, '6300216012': 687, 'B001RP974C': 688, 'B00008DDRL': 689, 'B00JV0547O': 690, 'B00006NT1S': 691, 'B001DMVZOE': 692, '0767849493': 693, '6304383827': 694, '6302561868': 695, '6304963076': 696, 'B00004RFF8': 697, 'B003Y5HWJU': 698, 'B008JFUO72': 699, '6304269064': 700, 'B004LYWPZE': 701, '6301670159': 702, 'B001OQCV56': 703, '6303922147': 704, 'B007K7IAHQ': 705, 'B00GEKO51U': 706, 'B00006WUWQ': 707, 'B0002GLWQ8': 708, '6302447704': 709, 'B00005JKSO': 710, 'B00008EY6L': 711, 'B002JCSWV6': 712, '6304238118': 713, 'B00005JL3T': 714, 'B000A2UBY8': 715, 'B007ZGN27K': 716, '6302797616': 717, '0784011222': 718, 'B00005JLR5': 719, 'B002GP7ZWI': 720, 'B0076XTH4Y': 721, '0790731177': 722, 'B00005KH2R': 723, '6304214502': 724, 'B002ZG97YM': 725, 'B005C7SXMS': 726, 'B00005JNEI': 727, 'B00005JMOW': 728, '6301071263': 729, '0767726227': 730, 'B000GG4Y00': 731, 'B005LAII80': 732, '6300270475': 733, 'B00E8RK5OC': 734, '6302977193': 735, 'B008JFUPFI': 736, 'B0000VAGXK': 737, 'B00003CXMO': 738, 'B001GJ4U4Q': 739, 'B00288KNJU': 740, 'B008220DGE': 741, 'B009DS6YGO': 742, 'B0034G4P4O': 743, 'B008CN091M': 744, 'B00BYBKKSG': 745, 'B00005QZ7U': 746, 'B000CPH9PM': 747, 'B000HC2LHQ': 748, 'B005LAIH1S': 749, 'B000UVLJK4': 750, 'B00695E1BY': 751, '1424810248': 752, 'B002UZXJAG': 753, 'B000HBKZ52': 754, '6301976061': 755, '6305069727': 756, 'B00004L8IQ': 757, '0783243499': 758, '6304484054': 759, '080018520X': 760, 'B000A6CLL0': 761, 'B009934S5M': 762, '6303394353': 763, '1573305588': 764, 'B00004STRD': 765, 'B00000JQUB': 766, '6304078250': 767, 'B0009Y8JG4': 768, '079075116X': 769, 'B0090SI56Y': 770, '6301977769': 771, 'B00005RDRD': 772, '6300216381': 773, 'B000MXPE6U': 774, '6301175239': 775, 'B00AF6B22E': 776, 'B001FB55H6': 777, 'B000NVIGA2': 778, '6304198574': 779, '630130053X': 780, '1404993169': 781, 'B00116GEE8': 782, 'B000F3T3CS': 783, 'B005LAII3A': 784, 'B00003CXDR': 785, '1566053676': 786, 'B00561BNI6': 787, 'B000LQN1LI': 788, 'B0009MFQQM': 789, 'B002OFV0PS': 790, 'B000056HEB': 791, 'B0013LL2XO': 792, '6301801253': 793, 'B002ZG97PG': 794, '192973221X': 795, 'B00000F74J': 796, 'B001CYMPL0': 797, 'B008RTE066': 798, 'B00003CXDI': 799, 'B00003CXPJ': 800, 'B004C45AX2': 801, 'B000EGDBZ6': 802, 'B0001A79EO': 803, 'B0006SSMWE': 804, 'B00167TTG2': 805, 'B002ZG98J6': 806, 'B0090SI4HO': 807, '0788832182': 808, 'B000640WGM': 809, '6304233639': 810, 'B000K7UBXE': 811, '6303398480': 812, '0790743531': 813, 'B00006JDVV': 814, 'B00000F2UF': 815, '0788600222': 816, 'B000BT97AO': 817, 'B00005QW5Y': 818, 'B0000VCZK2': 819, '6302309514': 820, '0792833171': 821, 'B00005BCK9': 822, 'B00ARRQ9NI': 823, 'B00005JMCT': 824, '0782008364': 825, 'B003Y5H4Y8': 826, '0783225199': 827, '0792842502': 828, '0767805712': 829, '6305111677': 830, 'B000IJ7A92': 831, 'B004O8OLNQ': 832, 'B000MGTQ6G': 833, '6304429754': 834, 'B00005JLQH': 835, 'B008J691HU': 836, 'B000063RQO': 837, 'B0012Z363A': 838, 'B0002JYAG4': 839, 'B0002DB5MC': 840, 'B000E0OE3K': 841, 'B001CC7PRQ': 842, 'B005LAII2Q': 843, 'B00CL0MCN0': 844, '0790733226': 845, 'B00003CXRP': 846, 'B000YAA68C': 847, 'B000067IVT': 848, 'B00005JPSM': 849, 'B002KISB56': 850, 'B002ZG99QS': 851, 'B0001CNRNO': 852, 'B003VMFWTS': 853, 'B003R0MF3A': 854, '0792840984': 855, 'B00G3HOJZ6': 856, '6304125941': 857, 'B00EV4EUT8': 858, 'B000AYQOA6': 859, 'B000053OSI': 860, 'B0007TKNI8': 861, '0800105702': 862, '0788882988': 863, 'B0035JHYJI': 864, 'B007W38WQ2': 865, 'B001HN6922': 866, '6302800420': 867, '6304196784': 868, 'B001HQZJMU': 869, 'B00005UW7U': 870, 'B00005ALS0': 871, '0788860704': 872, 'B003T8FLTK': 873, '6302510015': 874, '6302843065': 875, 'B00005JL99': 876, '079283318X': 877, 'B00AF4ORUK': 878, 'B0001GOH6Q': 879, 'B000AYELLK': 880, 'B00005JN2Z': 881, 'B00979JV00': 882, 'B0000E6FO8': 883, 'B000JJSKZY': 884, 'B00000JMPB': 885, '6302320488': 886, 'B002ZG983M': 887, 'B007L6VMDK': 888, '0780651359': 889, 'B003Y5H4R0': 890, '6302439485': 891, 'B000FO0AHO': 892, '0792108280': 893, '6304211740': 894, 'B000BR4UQC': 895, 'B00004W5WT': 896, 'B0002JELOA': 897, 'B00CMT52T6': 898, 'B001U0HBPG': 899, '6304819927': 900, 'B00005JLH0': 901, 'B0002475L6': 902, 'B0013XZ6H0': 903, 'B00007M5KB': 904, 'B0001ZMWYG': 905, '630442972X': 906, 'B003L77GAQ': 907, '6305428115': 908, 'B006GGRE9M': 909, '0790729385': 910, 'B00005U8EL': 911, 'B000MQC9H4': 912, 'B000060MVE': 913, 'B003EYVXV4': 914, '0783241917': 915, 'B0018TLRVS': 916, 'B002GSXKQU': 917, 'B003NH3X5Q': 918, '6300181987': 919, 'B00AZMFINM': 920, '1573309982': 921, 'B008BF7TBY': 922, 'B000SSQ7J2': 923, 'B001ER4CSO': 924, '0783222726': 925, 'B000294T3I': 926, 'B00005JO16': 927, 'B00005U8F0': 928, 'B00006G8F6': 929, '630201106X': 930, 'B002OCTANU': 931, '6300247031': 932, 'B004EPZ08O': 933, 'B005CA4SEC': 934, 'B009TE9784': 935, 'B004GJYRKK': 936, '6305080453': 937, '630123216X': 938, 'B0007NFLO0': 939, 'B000G1R38U': 940, 'B00005T33H': 941, 'B002VL5BWS': 942, 'B0000DKDUR': 943, '5': 944, '1': 945, '2': 946, '3': 947, '4': 948}\n"
     ]
    }
   ],
   "source": [
    "print(test_product_dict)"
   ]
  },
  {
   "cell_type": "code",
   "execution_count": null,
   "metadata": {},
   "outputs": [],
   "source": []
  },
  {
   "cell_type": "code",
   "execution_count": 13,
   "metadata": {
    "collapsed": true
   },
   "outputs": [],
   "source": [
    "# Merging (ONLY) new movies (not new users) into the matrix\n",
    "def merged_mtx(test_file, train_file, test_user_dict, test_product_dict, user_dict,\n",
    "               product_dict):\n",
    "\n",
    "    print('Merging training and test data for ratings imputation...')\n",
    "\n",
    "    num_user_ids = len(user_dict) # Training users\n",
    "    num_product_ids = len(test_product_dict) # Training and test products\n",
    "\n",
    "    merged_matrix = np.zeros(shape=(num_user_ids, num_product_ids), dtype=np.float32)\n",
    "    \n",
    "    print(merged_matrix.shape)\n",
    "\n",
    "    with open(test_file, 'r') as test_file:\n",
    "        file_reader=csv.reader(test_file, delimiter=',')\n",
    "        next(file_reader, None)\n",
    "\n",
    "        for row in file_reader:\n",
    "            \n",
    "            # print(row[1])\n",
    "            # print(test_product_dict[row[2]])\n",
    "            \n",
    "            merged_matrix[:, test_product_dict[row[2]]] = float(0)\n",
    "\n",
    "    with open(train_file, 'r') as train_file:\n",
    "        file_reader=csv.reader(train_file, delimiter=',')\n",
    "        next(file_reader, None)\n",
    "\n",
    "        for row in file_reader:\n",
    "            merged_matrix[user_dict[row[0]], product_dict[row[1]]] = float(row[2])\n",
    "    \n",
    "    print(merged_matrix.shape)\n",
    "    print(merged_matrix)\n",
    "\n",
    "#     print('Merged matrix tests: ')\n",
    "#     print(merged_matrix[[test_user_dict['A34DNO6UAH67Z0']],[test_product_dict['B000CDSS22']]]) # Should be 5\n",
    "#     print(merged_matrix[[test_user_dict['A3APW42N5MRVWT']], [test_product_dict['6305186774']]]) # Should be 2\n",
    "#     print(merged_matrix[[test_user_dict['A2M03PQV8R826Z']], [test_product_dict['B0000DKDUR']]]) # Should be 5\n",
    "\n",
    "    return merged_matrix"
   ]
  },
  {
   "cell_type": "code",
   "execution_count": 14,
   "metadata": {},
   "outputs": [
    {
     "name": "stdout",
     "output_type": "stream",
     "text": [
      "Merging training and test data for ratings imputation...\n",
      "(969, 949)\n",
      "(969, 949)\n",
      "[[5. 0. 0. ... 0. 0. 0.]\n",
      " [0. 2. 0. ... 0. 0. 0.]\n",
      " [0. 0. 5. ... 0. 0. 0.]\n",
      " ...\n",
      " [0. 0. 0. ... 0. 0. 0.]\n",
      " [0. 0. 0. ... 0. 0. 0.]\n",
      " [0. 0. 0. ... 0. 0. 0.]]\n"
     ]
    }
   ],
   "source": [
    "merged_matrix = merged_mtx('reviews.dev.shortened.csv', 'reviews.test.shortened.csv', test_user_dict,\n",
    "                           test_product_dict, user_dict, product_dict)"
   ]
  },
  {
   "cell_type": "code",
   "execution_count": 15,
   "metadata": {},
   "outputs": [],
   "source": [
    "def normalize_merged_matrix(matrix):\n",
    "\n",
    "    print('Calculating ratings mean...')\n",
    "    # matrix_mean = np.mean(matrix, axis=1)\n",
    "    matrix_row_mean = np.true_divide(matrix.sum(1), (matrix != 0).sum(1))\n",
    "    print('Matrix row mean: ')\n",
    "    print(matrix_row_mean[0])\n",
    "    matrix_column_mean = np.true_divide(matrix.sum(0), (matrix != 0).sum(0))\n",
    "    print('matrix column mean: ')\n",
    "    print(matrix_column_mean[0])\n",
    "\n",
    "    # matrix_mean_test = np.mean(matrix[matrix > 0])\n",
    "    # print(matrix_mean_test)\n",
    "    # matrix_mean = matrix.sum(1)/(matrix!=0).sum(1).astype(float)\n",
    "\n",
    "    global_mean = np.mean(matrix)\n",
    "    print('Global mean: ')\n",
    "    print(global_mean)\n",
    "\n",
    "    print('Normalizing the data...')\n",
    "    normalized_matrix = matrix - matrix_row_mean.reshape(-1, 1)\n",
    "    print('Normalized matrix: ')\n",
    "    print(normalized_matrix)\n",
    "\n",
    "    print('Test normalized mean value: ')\n",
    "    print(matrix_row_mean[0])\n",
    "\n",
    "    print('Fill nan with 0')\n",
    "    normalized_matrix = np.nan_to_num(normalized_matrix)\n",
    "    print(normalized_matrix)\n",
    "\n",
    "    return normalized_matrix, matrix_row_mean, matrix_column_mean, global_mean"
   ]
  },
  {
   "cell_type": "code",
   "execution_count": 16,
   "metadata": {},
   "outputs": [
    {
     "name": "stdout",
     "output_type": "stream",
     "text": [
      "Calculating ratings mean...\n",
      "Matrix row mean: \n",
      "5.0\n",
      "matrix column mean: \n",
      "5.0\n",
      "Global mean: \n",
      "0.004489001\n",
      "Normalizing the data...\n",
      "Normalized matrix: \n",
      "[[ 0. -5. -5. ... -5. -5. -5.]\n",
      " [-2.  0. -2. ... -2. -2. -2.]\n",
      " [-5. -5.  0. ... -5. -5. -5.]\n",
      " ...\n",
      " [-5. -5. -5. ... -5. -5. -5.]\n",
      " [-2. -2. -2. ... -2. -2. -2.]\n",
      " [-5. -5. -5. ... -5. -5. -5.]]\n",
      "Test normalized mean value: \n",
      "5.0\n",
      "Fill nan with 0\n",
      "[[ 0. -5. -5. ... -5. -5. -5.]\n",
      " [-2.  0. -2. ... -2. -2. -2.]\n",
      " [-5. -5.  0. ... -5. -5. -5.]\n",
      " ...\n",
      " [-5. -5. -5. ... -5. -5. -5.]\n",
      " [-2. -2. -2. ... -2. -2. -2.]\n",
      " [-5. -5. -5. ... -5. -5. -5.]]\n"
     ]
    },
    {
     "name": "stderr",
     "output_type": "stream",
     "text": [
      "/Users/hanley/anaconda3/lib/python3.6/site-packages/ipykernel_launcher.py:8: RuntimeWarning: invalid value encountered in true_divide\n",
      "  \n"
     ]
    }
   ],
   "source": [
    "normalized_matrix, matrix_row_mean, matrix_column_mean, global_mean = normalize_merged_matrix(merged_matrix)"
   ]
  },
  {
   "cell_type": "code",
   "execution_count": 17,
   "metadata": {
    "collapsed": true
   },
   "outputs": [],
   "source": [
    "def compute_svd_from_demeaned(urm_demeaned):\n",
    "\n",
    "    print('Computing svd from de-meaned matrix...')\n",
    "\n",
    "    U, sigma, Vt = svds(urm_demeaned, k = 100)\n",
    "    S = np.diag(sigma)\n",
    "\n",
    "    return U, S, Vt"
   ]
  },
  {
   "cell_type": "code",
   "execution_count": 18,
   "metadata": {},
   "outputs": [
    {
     "name": "stdout",
     "output_type": "stream",
     "text": [
      "Computing svd from de-meaned matrix...\n"
     ]
    }
   ],
   "source": [
    "U, S, Vt = compute_svd_from_demeaned(normalized_matrix)"
   ]
  },
  {
   "cell_type": "code",
   "execution_count": null,
   "metadata": {
    "collapsed": true
   },
   "outputs": [],
   "source": []
  },
  {
   "cell_type": "code",
   "execution_count": null,
   "metadata": {
    "collapsed": true
   },
   "outputs": [],
   "source": []
  },
  {
   "cell_type": "code",
   "execution_count": null,
   "metadata": {
    "collapsed": true
   },
   "outputs": [],
   "source": []
  },
  {
   "cell_type": "code",
   "execution_count": null,
   "metadata": {
    "collapsed": true
   },
   "outputs": [],
   "source": []
  },
  {
   "cell_type": "code",
   "execution_count": 19,
   "metadata": {},
   "outputs": [
    {
     "data": {
      "text/plain": [
       "(969, 100)"
      ]
     },
     "execution_count": 19,
     "metadata": {},
     "output_type": "execute_result"
    }
   ],
   "source": [
    "U.shape"
   ]
  },
  {
   "cell_type": "code",
   "execution_count": 20,
   "metadata": {},
   "outputs": [
    {
     "data": {
      "text/plain": [
       "(100, 100)"
      ]
     },
     "execution_count": 20,
     "metadata": {},
     "output_type": "execute_result"
    }
   ],
   "source": [
    "S.shape"
   ]
  },
  {
   "cell_type": "code",
   "execution_count": 21,
   "metadata": {},
   "outputs": [
    {
     "data": {
      "text/plain": [
       "(100, 949)"
      ]
     },
     "execution_count": 21,
     "metadata": {},
     "output_type": "execute_result"
    }
   ],
   "source": [
    "Vt.shape"
   ]
  },
  {
   "cell_type": "code",
   "execution_count": 22,
   "metadata": {},
   "outputs": [
    {
     "data": {
      "text/plain": [
       "(969, 100)"
      ]
     },
     "execution_count": 22,
     "metadata": {},
     "output_type": "execute_result"
    }
   ],
   "source": [
    "np.dot(U, S).shape"
   ]
  },
  {
   "cell_type": "code",
   "execution_count": 23,
   "metadata": {},
   "outputs": [
    {
     "data": {
      "text/plain": [
       "(949, 100)"
      ]
     },
     "execution_count": 23,
     "metadata": {},
     "output_type": "execute_result"
    }
   ],
   "source": [
    "np.dot(S, Vt).T.shape"
   ]
  },
  {
   "cell_type": "code",
   "execution_count": 24,
   "metadata": {},
   "outputs": [
    {
     "data": {
      "text/plain": [
       "array([[-1.37205650e-01, -5.89805982e-16, -4.20318367e-01, ...,\n",
       "        -3.81639165e-16, -4.51028104e-16, -5.20417043e-16],\n",
       "       [-3.81277566e-01,  9.89808821e-16,  2.66869126e-01, ...,\n",
       "         1.15958810e-15,  1.21471301e-15,  1.25730183e-15],\n",
       "       [ 1.02816145e-02, -6.22332047e-16, -7.37814147e-01, ...,\n",
       "         4.05491613e-16,  3.61039323e-16,  3.32850067e-16],\n",
       "       ...,\n",
       "       [-1.83510544e-02, -1.18028604e-02, -1.83510544e-02, ...,\n",
       "        -1.09573015e-02, -1.09573015e-02, -1.09573015e-02],\n",
       "       [-1.30626992e-02, -1.16084588e-03, -1.30626992e-02, ...,\n",
       "         5.37102953e-04,  5.37102952e-04,  5.37102952e-04],\n",
       "       [ 1.33719043e+02,  1.33875875e+02,  1.33719043e+02, ...,\n",
       "         1.33905748e+02,  1.33905748e+02,  1.33905748e+02]])"
      ]
     },
     "execution_count": 24,
     "metadata": {},
     "output_type": "execute_result"
    }
   ],
   "source": [
    "right_term = np.dot(S, Vt)\n",
    "right_term"
   ]
  },
  {
   "cell_type": "code",
   "execution_count": 25,
   "metadata": {},
   "outputs": [
    {
     "data": {
      "text/plain": [
       "array([-4.53999667, -4.99878382, -5.01956388, -4.99725138, -4.99599273,\n",
       "       -4.97408451, -5.01079028, -5.00499575, -5.00188509, -4.91127262,\n",
       "       -4.99502001, -4.90725531, -4.99725138, -4.99968802, -5.05458758,\n",
       "       -4.99502001, -4.99502001, -5.00188509, -5.00121525, -4.84908835,\n",
       "       -5.00121525, -4.99725138, -4.99725138, -4.99502001, -4.97543973,\n",
       "       -4.99502001, -4.9012458 , -4.89994935, -4.99725138, -5.0074009 ,\n",
       "       -5.14554059, -4.83743051, -4.99725138, -4.99502001, -5.13173357,\n",
       "       -5.00174976, -5.0336907 , -4.99878382, -4.99725138, -5.07768594,\n",
       "       -5.0013573 , -5.02412163, -5.08411467, -4.99502001, -4.99968802,\n",
       "       -5.09605656, -5.00121525, -4.86294563, -5.04170124, -4.93178321,\n",
       "       -5.03431382, -4.92073637, -5.00121525, -5.04919716, -4.99502001,\n",
       "       -4.99502001, -4.85783127, -4.86727461, -5.01788884, -4.99502001,\n",
       "       -4.92059394, -5.00121525, -5.00157283, -4.92983148, -4.99878382,\n",
       "       -5.0312819 , -4.99878382, -5.10004367, -4.93043905, -4.99878382,\n",
       "       -4.99725138, -5.00060715, -4.94224147, -5.02630629, -4.99725138,\n",
       "       -4.99502001, -4.88087899, -4.90486721, -4.99725138, -4.99725138,\n",
       "       -4.99968802, -4.96585522, -5.12833641, -4.91193283, -4.94546907,\n",
       "       -4.99725138, -4.99968802, -4.92152416, -4.99878382, -5.20498049,\n",
       "       -5.00059276, -5.00060715, -4.99502001, -5.0914358 , -5.08455673,\n",
       "       -4.99468824, -5.00157283, -5.08391219, -4.94173919, -4.84471743,\n",
       "       -4.77623359, -4.99502001, -5.11556146, -4.99725138, -4.99725138,\n",
       "       -4.98225653, -5.03635416, -4.99800127, -4.99878382, -5.14334323,\n",
       "       -5.15942014, -4.97148079, -5.17061117, -4.97977668, -4.95991773,\n",
       "       -4.99502001, -4.99968802, -5.10818137, -4.99725138, -4.99502001,\n",
       "       -4.99502001, -5.02485443, -4.89091943, -5.1679625 , -4.96463325,\n",
       "       -4.99502001, -5.03088126, -5.09890611, -4.99878382, -4.99968802,\n",
       "       -4.99976754, -4.99878382, -5.03720322, -4.99968802, -5.03609663,\n",
       "       -4.98702256, -4.90766591, -4.99502001, -4.99968802, -4.98016629,\n",
       "       -4.99968802, -4.99853729, -4.99502001, -4.99968802, -5.00074814,\n",
       "       -4.99502001, -4.97226021, -4.99502001, -5.00121525, -5.12261254,\n",
       "       -4.99725138, -4.99968802, -4.99502001, -4.99878382, -5.0013573 ,\n",
       "       -5.00092028, -4.91498189, -5.00788611, -5.0312878 , -4.99878382,\n",
       "       -4.99502001, -5.03522252, -4.99502001, -4.84385046, -4.99502001,\n",
       "       -5.03583209, -5.0333994 , -4.99968802, -4.96945214, -5.06081032,\n",
       "       -4.99725138, -5.00109162, -4.86731193, -5.00032552, -4.99968802,\n",
       "       -5.02534358, -4.97341136, -4.99725138, -5.00059276, -5.00082662,\n",
       "       -4.92230548, -4.99725138, -5.00041004, -5.00059276, -4.83006641,\n",
       "       -4.99502001, -4.99968802, -4.99502001, -4.99725138, -4.90880801,\n",
       "       -5.01976611, -4.99968802, -5.00074409, -4.93173931, -4.99502001,\n",
       "       -5.00121525, -4.98070473, -5.00082662, -5.01156707, -4.99725138,\n",
       "       -5.00098691, -4.99502001, -4.99502001, -5.00060715, -4.99645722,\n",
       "       -4.99968802, -5.07874494, -5.0136542 , -4.99725138, -4.99878382,\n",
       "       -4.99502001, -4.99878382, -4.99968802, -4.93723714, -4.99968802,\n",
       "       -4.90881813, -4.93370899, -5.1801189 , -4.99502001, -5.04104169,\n",
       "       -4.99502001, -4.99968802, -4.96559941, -5.00121525, -5.05333598,\n",
       "       -5.14747976, -5.00060715, -4.99502001, -4.99502001, -4.99044976,\n",
       "       -5.00121525, -5.04916142, -4.86063534, -4.99725138, -4.97519655,\n",
       "       -5.05958824, -4.99968802, -5.00082662, -5.00109162, -4.97869952,\n",
       "       -5.06282123, -4.99502001, -5.00121525, -4.99502001, -4.8543629 ,\n",
       "       -5.0013573 , -4.99725138, -4.99502001, -5.00059276, -4.89413923,\n",
       "       -4.99725138, -4.99502001, -4.99502001, -4.94172271, -5.00167209,\n",
       "       -5.07001766, -4.99968802, -4.85095834, -4.99502001, -4.95790146,\n",
       "       -4.84984208, -4.99968802, -4.99878382, -5.01655213, -4.92529976,\n",
       "       -5.03411318, -4.92180341, -4.99725138, -4.93529929, -4.99502001,\n",
       "       -4.94296282, -4.94678529, -4.99502001, -4.99502001, -4.96419613,\n",
       "       -5.00074409, -5.06309329, -5.00010901, -5.0020094 , -4.99502001,\n",
       "       -4.85164813, -4.92410208, -4.99502001, -4.99502001, -4.99725138,\n",
       "       -4.99502001, -4.99725138, -4.9816931 , -4.99725138, -4.95822146,\n",
       "       -5.0012716 , -5.02120443, -5.07872406, -5.05804757, -4.99502001,\n",
       "       -4.96593828, -4.99725138, -4.99502001, -4.99502001, -4.94116418,\n",
       "       -4.97057561, -4.99502001, -4.97522351, -5.16762711, -4.90662875,\n",
       "       -5.04462881, -4.99502001, -4.99968802, -5.00121525, -5.00121525,\n",
       "       -5.00022043, -4.99725138, -4.99878382, -5.04792315, -4.99725138,\n",
       "       -4.893049  , -4.9677334 , -4.97213607, -4.99878382, -4.99725138,\n",
       "       -5.0022483 , -5.0276123 , -4.91576937, -5.00167209, -4.95986574,\n",
       "       -4.99502001, -4.99502001, -4.99878382, -4.99502001, -5.00675421,\n",
       "       -4.99725138, -5.02217584, -4.85957126, -5.00157283, -4.99574626,\n",
       "       -5.00074409, -4.9447872 , -4.99725138, -5.03654511, -4.98613635,\n",
       "       -4.99725138, -5.06145139, -4.99878382, -4.92148543, -4.99968802,\n",
       "       -4.99968802, -5.04258628, -5.00642591, -5.08762115, -4.9346303 ,\n",
       "       -4.99502001, -4.90427616, -5.0247754 , -4.99502001, -4.99725138,\n",
       "       -4.99968802, -5.00059276, -5.04557321, -4.99502001, -4.90411967,\n",
       "       -5.00270365, -4.99968802, -5.14812206, -4.99502001, -5.08630281,\n",
       "       -5.06188611, -5.02846581, -5.04507665, -4.99878382, -5.02826712,\n",
       "       -4.93459114, -4.99502001, -4.94134849, -5.00787682, -5.03188059,\n",
       "       -4.99968802, -4.95704674, -4.99502001, -4.88347261, -4.99502001,\n",
       "       -4.99263188, -5.10314028, -4.99502001, -4.90745133, -4.99878382,\n",
       "       -5.00962379, -5.08606037, -4.99878382, -4.99502001, -4.9524211 ,\n",
       "       -5.12519346, -4.99052946, -4.99502001, -4.99725138, -4.89622998,\n",
       "       -5.06148143, -5.0022483 , -5.1431308 , -5.14565914, -5.0013573 ,\n",
       "       -4.99502001, -5.00082662, -4.99725138, -4.99878382, -4.96854755,\n",
       "       -4.95028117, -4.99502001, -4.99502001, -4.97562324, -4.99968802,\n",
       "       -4.91684722, -5.04644468, -4.99968802, -4.99397262, -5.00082662,\n",
       "       -4.99502001, -5.00054714, -4.99502001, -5.0022483 , -4.99878382,\n",
       "       -5.00121525, -5.00867019, -5.00121525, -4.99968802, -4.99502001,\n",
       "       -4.89584285, -4.99725138, -4.99725138, -4.98253521, -5.16463646,\n",
       "       -5.029974  , -4.99502001, -5.05862998, -4.8876783 , -5.09230685,\n",
       "       -4.99878382, -4.97680197, -5.04005722, -4.99502001, -5.09253137,\n",
       "       -5.05314295, -4.99968802, -5.00059276, -4.99725138, -4.99679637,\n",
       "       -5.08035158, -4.99502001, -5.02797006, -4.99502001, -5.06980575,\n",
       "       -4.99655234, -4.99502001, -5.12235652, -4.99502001, -4.99725138,\n",
       "       -4.99878382, -4.9813241 , -4.93227466, -4.99502001, -5.02463483,\n",
       "       -4.9718468 , -5.07047158, -5.07523071, -4.99725138, -5.05704012,\n",
       "       -4.94966593, -5.08332174, -4.99725138, -4.99502001, -4.99968802,\n",
       "       -4.99502001, -5.08918709, -4.99725138, -4.94886498, -5.00092028,\n",
       "       -5.00001321, -4.99252786, -5.09136871, -4.99502001, -4.99725138,\n",
       "       -5.0292826 , -4.99958769, -4.99725138, -4.97691297, -4.99725138,\n",
       "       -4.99502001, -4.99725138, -4.99502001, -4.99502001, -4.99725138,\n",
       "       -4.99725138, -5.01391197, -4.99502001, -4.97136783, -5.0660168 ,\n",
       "       -4.9300454 , -5.06752089, -4.99085015, -5.01605932, -4.99502001,\n",
       "       -4.99968802, -5.00121525, -4.99725138, -4.87303848, -4.99502001,\n",
       "       -4.99502001, -5.01431342, -4.99468824, -4.99725138, -4.99502001,\n",
       "       -4.94321294, -4.91769903, -5.05090752, -4.99725138, -5.06019301,\n",
       "       -4.99502001, -5.00054714, -4.99878382, -4.95673483, -4.98515958,\n",
       "       -4.91715973, -5.05927803, -4.8705734 , -4.99878382, -4.9316255 ,\n",
       "       -5.00121525, -5.00323654, -4.99502001, -4.99878382, -5.03165775,\n",
       "       -4.89601827, -4.94591912, -4.99502001, -5.04248858, -5.06555209,\n",
       "       -4.97081251, -4.93721424, -4.99502001, -4.99968802, -4.89990635,\n",
       "       -4.99878382, -5.02447214, -4.99725138, -4.99878382, -4.99502001,\n",
       "       -4.95749417, -4.99968802, -4.99725138, -4.96821668, -5.00862294,\n",
       "       -5.04378914, -4.99725138, -5.04582618, -4.99725138, -5.08000293,\n",
       "       -4.99968802, -5.05786004, -4.99725138, -4.99968802, -4.99725138,\n",
       "       -4.99725138, -4.99893968, -4.99918966, -4.93073237, -4.99502001,\n",
       "       -4.99502001, -5.00121525, -4.99502001, -5.03877238, -5.07939026,\n",
       "       -4.97368724, -5.09113818, -4.99502001, -4.99725138, -4.99239224,\n",
       "       -4.99502001, -4.99725138, -5.00082662, -4.99502001, -5.00121525,\n",
       "       -4.99502001, -4.99502001, -4.99725138, -4.93993885, -5.00605458,\n",
       "       -5.03493578, -4.9206023 , -5.02803689, -4.99878382, -4.99878382,\n",
       "       -4.98930231, -5.00676368, -5.06222253, -4.99502001, -5.03673101,\n",
       "       -4.99502001, -4.99502001, -4.99878382, -4.95030445, -4.99502001,\n",
       "       -4.99994594, -4.99502001, -5.0215527 , -5.0244075 , -5.0013573 ,\n",
       "       -5.00074409, -5.07316199, -4.99725138, -4.98120665, -5.00394658,\n",
       "       -5.12058639, -5.02939018, -5.00157283, -5.07238141, -5.02275761,\n",
       "       -4.99725138, -5.03738671, -5.00128286, -4.91366562, -5.02433473,\n",
       "       -4.91814486, -5.08086903, -4.92926264, -4.99502001, -4.99502001,\n",
       "       -4.99502001, -4.97295712, -5.02818482, -4.99968802, -4.99502001,\n",
       "       -4.99502001, -5.00074409, -5.01156738, -5.0066552 , -4.99502001,\n",
       "       -4.94768702, -4.99968802, -5.00059276, -4.99502001, -5.03620077,\n",
       "       -5.0639036 , -5.0582209 , -4.97420906, -4.99968802, -5.00485071,\n",
       "       -4.99181062, -5.0914782 , -4.99502001, -4.99725138, -4.99502001,\n",
       "       -5.08048718, -5.03145209, -4.95133811, -5.15715469, -4.99502001,\n",
       "       -4.99502001, -4.99502001, -4.99878382, -5.05098443, -4.99968802,\n",
       "       -5.03267277, -5.00169966, -5.01972702, -4.96217168, -5.07892526,\n",
       "       -5.04717753, -4.98209737, -4.98333595, -5.00157283, -4.99799003,\n",
       "       -4.99502001, -4.96034659, -5.00257088, -4.99502001, -4.99725138,\n",
       "       -4.99725138, -4.99502001, -4.93845393, -5.00169966, -5.00074409,\n",
       "       -4.99725138, -5.04339049, -5.035469  , -4.88692958, -4.99725138,\n",
       "       -5.00115242, -5.06573928, -5.00068913, -4.99502001, -4.99502001,\n",
       "       -4.99725138, -4.90787444, -4.92197355, -4.99725138, -4.99502001,\n",
       "       -4.88717914, -4.99725138, -5.0231353 , -4.97012497, -4.97079487,\n",
       "       -4.99968802, -4.99878382, -4.99878382, -4.99725138, -4.95505826,\n",
       "       -4.97406944, -5.00059276, -5.00138679, -4.99725138, -4.98962981,\n",
       "       -4.91299331, -4.96548188, -5.00517432, -4.94916932, -4.99878382,\n",
       "       -4.99725138, -4.99878382, -5.01802018, -4.99878382, -4.99968802,\n",
       "       -4.96635521, -4.99725138, -4.99502001, -4.90770942, -4.99725138,\n",
       "       -4.99062461, -4.99502001, -4.99968802, -4.99725138, -4.98076835,\n",
       "       -5.0732305 , -4.99502001, -5.00662976, -4.94505802, -4.99878382,\n",
       "       -5.06779341, -4.99502001, -4.99502001, -4.99502001, -4.99725138,\n",
       "       -4.99968802, -4.93019746, -5.00592499, -4.95382959, -4.91704062,\n",
       "       -4.95263925, -4.99725138, -4.93204296, -4.99302312, -4.88193475,\n",
       "       -5.04329403, -4.99725138, -5.0013573 , -4.96106796, -4.99900439,\n",
       "       -5.00225562, -4.95284853, -4.99502001, -4.95040642, -4.96982428,\n",
       "       -4.97599795, -5.00690155, -4.9387453 , -4.98463456, -4.99502001,\n",
       "       -4.99725138, -5.01207441, -4.99968802, -4.99502001, -4.99725138,\n",
       "       -4.99725138, -4.99502001, -5.02526527, -5.05284025, -4.99968802,\n",
       "       -5.00074409, -4.99502001, -4.99502001, -4.99348115, -5.01941514,\n",
       "       -4.99878382, -5.03693374, -5.07563911, -4.95398605, -4.99878382,\n",
       "       -4.99725138, -5.01891252, -4.99968802, -4.98426347, -4.98694614,\n",
       "       -4.9846444 , -4.98645405, -4.99502001, -4.96788416, -5.00040845,\n",
       "       -4.96003876, -4.99502001, -4.99502001, -5.03743709, -5.00192377,\n",
       "       -4.99968802, -4.99845641, -4.99502001, -4.99502001, -4.99502001,\n",
       "       -5.0041409 , -5.0344211 , -4.99502001, -5.01833163, -5.00926482,\n",
       "       -4.99725138, -4.99502001, -4.99502001, -4.95943449, -4.99878382,\n",
       "       -4.9991319 , -4.98339533, -5.00082662, -4.99502001, -4.97173127,\n",
       "       -4.99683388, -4.99317439, -4.99725138, -4.96167338, -4.99725138,\n",
       "       -4.99725138, -4.97581436, -4.99502001, -4.99878382, -4.98545661,\n",
       "       -4.99047391, -4.99725138, -4.92569173, -4.99725138, -4.95827471,\n",
       "       -4.99335926, -4.99725138, -4.92982369, -4.9591877 , -4.99878382,\n",
       "       -4.99878382, -4.99755718, -4.99968802, -4.99502001, -4.95602952,\n",
       "       -5.00167209, -4.99502001, -4.99878382, -4.97114882, -4.99725138,\n",
       "       -4.99725138, -4.99502001, -4.93800287, -4.97382574, -5.03585205,\n",
       "       -4.99968802, -4.96558931, -4.99878382, -4.99725138, -4.99523542,\n",
       "       -4.9954452 , -4.99345802, -5.00109792, -4.95177833, -5.01318014,\n",
       "       -4.93333388, -4.98695513, -4.97369127, -4.95970108, -5.03122514,\n",
       "       -4.99502001, -4.9823112 , -5.02367188, -4.94341988, -5.00082662,\n",
       "       -4.96913302, -5.02107869, -5.01334417, -4.99725138, -4.99968802,\n",
       "       -4.97844596, -4.93220157, -4.92339789, -4.984543  , -4.92162716,\n",
       "       -4.95550977, -4.96812436, -4.99502001, -4.99968802, -4.95119517,\n",
       "       -4.99725138, -4.93933454, -5.01200689, -4.96775166, -4.93573435,\n",
       "       -4.99448542, -4.9638867 , -4.99502001, -4.99878382, -4.99502001,\n",
       "       -5.03758114, -4.972374  , -4.99502001, -5.00082662, -4.99502001,\n",
       "       -4.95551216, -4.99502001, -4.95665392, -5.00082662, -4.99502001,\n",
       "       -4.9618601 , -4.99725138, -4.96991702, -4.99255075, -4.99502001,\n",
       "       -4.99968802, -4.97238745, -4.99502001, -4.9062052 , -4.9286512 ,\n",
       "       -4.99878382, -4.98105706, -4.95772322, -4.96438115, -4.92204649,\n",
       "       -4.95849849, -4.99725138, -4.99502001, -4.9632772 , -4.99502001,\n",
       "       -4.94681369, -4.99502001, -4.9919581 , -4.99502001, -4.99968802,\n",
       "       -4.99502001, -4.95283568, -4.96515255, -4.99725138, -4.99502001,\n",
       "       -4.97347306, -4.99878382, -4.93026029, -5.00074409, -4.99998743,\n",
       "       -4.99998743, -4.99998743, -4.99998743, -4.99998743])"
      ]
     },
     "execution_count": 25,
     "metadata": {},
     "output_type": "execute_result"
    }
   ],
   "source": [
    "reconstructed_user_query = np.dot(right_term.T, U[0, :].T)\n",
    "reconstructed_user_query"
   ]
  },
  {
   "cell_type": "code",
   "execution_count": 26,
   "metadata": {},
   "outputs": [],
   "source": [
    "# re_meaned_prediction = reconstructed_user_query + matrix_row_mean.reshape(-1,1)\n",
    "# re_meaned_prediction"
   ]
  },
  {
   "cell_type": "code",
   "execution_count": null,
   "metadata": {
    "collapsed": true
   },
   "outputs": [],
   "source": []
  },
  {
   "cell_type": "code",
   "execution_count": null,
   "metadata": {
    "collapsed": true
   },
   "outputs": [],
   "source": []
  },
  {
   "cell_type": "code",
   "execution_count": null,
   "metadata": {
    "collapsed": true
   },
   "outputs": [],
   "source": []
  },
  {
   "cell_type": "code",
   "execution_count": null,
   "metadata": {
    "collapsed": true
   },
   "outputs": [],
   "source": []
  },
  {
   "cell_type": "code",
   "execution_count": 27,
   "metadata": {
    "collapsed": true
   },
   "outputs": [],
   "source": [
    "right_term = np.dot(S, Vt)"
   ]
  },
  {
   "cell_type": "code",
   "execution_count": 28,
   "metadata": {},
   "outputs": [
    {
     "data": {
      "text/plain": [
       "-4.539996673721209"
      ]
     },
     "execution_count": 28,
     "metadata": {},
     "output_type": "execute_result"
    }
   ],
   "source": [
    "user_query = np.dot(right_term.T, U[user_dict['A34DNO6UAH67Z0'], :].T)\n",
    "user_query[test_product_dict['B000CDSS22']]"
   ]
  },
  {
   "cell_type": "code",
   "execution_count": null,
   "metadata": {
    "collapsed": true
   },
   "outputs": [],
   "source": []
  },
  {
   "cell_type": "code",
   "execution_count": null,
   "metadata": {},
   "outputs": [],
   "source": []
  },
  {
   "cell_type": "code",
   "execution_count": null,
   "metadata": {
    "collapsed": true
   },
   "outputs": [],
   "source": []
  },
  {
   "cell_type": "code",
   "execution_count": 39,
   "metadata": {},
   "outputs": [],
   "source": [
    "def reconstruct_demeaned_matrix(U, S, Vt, urm_mean, testing_file, outfile, test_user_dict, test_product_dict):\n",
    "\n",
    "    print('Reconstructing matrix and making predictions...')\n",
    "    \n",
    "    print(len(test_user_dict))\n",
    "    print(len(test_product_dict))\n",
    "    \n",
    "    right_term = np.dot(S, Vt)\n",
    "\n",
    "    with open(testing_file, 'r') as test_file:\n",
    "        test_reader = csv.reader(test_file, delimiter=',')\n",
    "        next(test_reader, None)\n",
    "        with open(outfile, 'w') as outfile:\n",
    "            outfile_reader = csv.writer(outfile, delimiter=',')\n",
    "            outfile_reader.writerow(['datapointID', 'overall'])\n",
    "\n",
    "            for row in test_reader:\n",
    "\n",
    "                try: \n",
    "                    # user_query = np.dot(right_term.T, U[test_user_dict[row[0]], :].T)\n",
    "                    user_query = np.dot(right_term.T, U[test_user_dict['A1JPGO1PST2QBA'], :].T)\n",
    "                    prediction = -user_query[test_product_dict[row[1]]]\n",
    "                    print('Making a prediction based on SVD')\n",
    "                except:\n",
    "                    print(row[1])\n",
    "                    prediction = matrix_column_mean[test_product_dict[row[1]]]\n",
    "                    print('Making a prediction based on mean.')               \n",
    "\n",
    "                outfile_reader.writerow([row[0], row[2], prediction])\n",
    "\n",
    "    print('Done.')\n",
    "    return None"
   ]
  },
  {
   "cell_type": "code",
   "execution_count": 40,
   "metadata": {},
   "outputs": [
    {
     "name": "stdout",
     "output_type": "stream",
     "text": [
      "Reconstructing matrix and making predictions...\n",
      "1925\n",
      "949\n",
      "6300210685\n"
     ]
    },
    {
     "ename": "KeyError",
     "evalue": "'6300210685'",
     "output_type": "error",
     "traceback": [
      "\u001b[0;31m---------------------------------------------------------------------------\u001b[0m",
      "\u001b[0;31mKeyError\u001b[0m                                  Traceback (most recent call last)",
      "\u001b[0;32m<ipython-input-39-18c3a6187bc1>\u001b[0m in \u001b[0;36mreconstruct_demeaned_matrix\u001b[0;34m(U, S, Vt, urm_mean, testing_file, outfile, test_user_dict, test_product_dict)\u001b[0m\n\u001b[1;32m     20\u001b[0m                     \u001b[0;31m# user_query = np.dot(right_term.T, U[test_user_dict[row[0]], :].T)\u001b[0m\u001b[0;34m\u001b[0m\u001b[0;34m\u001b[0m\u001b[0m\n\u001b[0;32m---> 21\u001b[0;31m                     \u001b[0muser_query\u001b[0m \u001b[0;34m=\u001b[0m \u001b[0mnp\u001b[0m\u001b[0;34m.\u001b[0m\u001b[0mdot\u001b[0m\u001b[0;34m(\u001b[0m\u001b[0mright_term\u001b[0m\u001b[0;34m.\u001b[0m\u001b[0mT\u001b[0m\u001b[0;34m,\u001b[0m \u001b[0mU\u001b[0m\u001b[0;34m[\u001b[0m\u001b[0mtest_user_dict\u001b[0m\u001b[0;34m[\u001b[0m\u001b[0;34m'A1JPGO1PST2QBA'\u001b[0m\u001b[0;34m]\u001b[0m\u001b[0;34m,\u001b[0m \u001b[0;34m:\u001b[0m\u001b[0;34m]\u001b[0m\u001b[0;34m.\u001b[0m\u001b[0mT\u001b[0m\u001b[0;34m)\u001b[0m\u001b[0;34m\u001b[0m\u001b[0m\n\u001b[0m\u001b[1;32m     22\u001b[0m                     \u001b[0mprediction\u001b[0m \u001b[0;34m=\u001b[0m \u001b[0;34m-\u001b[0m\u001b[0muser_query\u001b[0m\u001b[0;34m[\u001b[0m\u001b[0mtest_product_dict\u001b[0m\u001b[0;34m[\u001b[0m\u001b[0mrow\u001b[0m\u001b[0;34m[\u001b[0m\u001b[0;36m1\u001b[0m\u001b[0;34m]\u001b[0m\u001b[0;34m]\u001b[0m\u001b[0;34m]\u001b[0m\u001b[0;34m\u001b[0m\u001b[0m\n",
      "\u001b[0;31mKeyError\u001b[0m: 'A1JPGO1PST2QBA'",
      "\nDuring handling of the above exception, another exception occurred:\n",
      "\u001b[0;31mKeyError\u001b[0m                                  Traceback (most recent call last)",
      "\u001b[0;32m<ipython-input-40-9fb9f457a409>\u001b[0m in \u001b[0;36m<module>\u001b[0;34m()\u001b[0m\n\u001b[1;32m      1\u001b[0m predicted_ratings = reconstruct_demeaned_matrix(U, S, Vt, matrix_row_mean, 'reviews.dev.shortened.csv',\n\u001b[0;32m----> 2\u001b[0;31m                                                 'reviews.test.labeled.csv', test_user_dict, test_product_dict)\n\u001b[0m",
      "\u001b[0;32m<ipython-input-39-18c3a6187bc1>\u001b[0m in \u001b[0;36mreconstruct_demeaned_matrix\u001b[0;34m(U, S, Vt, urm_mean, testing_file, outfile, test_user_dict, test_product_dict)\u001b[0m\n\u001b[1;32m     24\u001b[0m                 \u001b[0;32mexcept\u001b[0m\u001b[0;34m:\u001b[0m\u001b[0;34m\u001b[0m\u001b[0m\n\u001b[1;32m     25\u001b[0m                     \u001b[0mprint\u001b[0m\u001b[0;34m(\u001b[0m\u001b[0mrow\u001b[0m\u001b[0;34m[\u001b[0m\u001b[0;36m1\u001b[0m\u001b[0;34m]\u001b[0m\u001b[0;34m)\u001b[0m\u001b[0;34m\u001b[0m\u001b[0m\n\u001b[0;32m---> 26\u001b[0;31m                     \u001b[0mprediction\u001b[0m \u001b[0;34m=\u001b[0m \u001b[0mmatrix_column_mean\u001b[0m\u001b[0;34m[\u001b[0m\u001b[0mtest_product_dict\u001b[0m\u001b[0;34m[\u001b[0m\u001b[0mrow\u001b[0m\u001b[0;34m[\u001b[0m\u001b[0;36m1\u001b[0m\u001b[0;34m]\u001b[0m\u001b[0;34m]\u001b[0m\u001b[0;34m]\u001b[0m\u001b[0;34m\u001b[0m\u001b[0m\n\u001b[0m\u001b[1;32m     27\u001b[0m                     \u001b[0mprint\u001b[0m\u001b[0;34m(\u001b[0m\u001b[0;34m'Making a prediction based on mean.'\u001b[0m\u001b[0;34m)\u001b[0m\u001b[0;34m\u001b[0m\u001b[0m\n\u001b[1;32m     28\u001b[0m \u001b[0;34m\u001b[0m\u001b[0m\n",
      "\u001b[0;31mKeyError\u001b[0m: '6300210685'"
     ]
    }
   ],
   "source": [
    "predicted_ratings = reconstruct_demeaned_matrix(U, S, Vt, matrix_row_mean, 'reviews.dev.shortened.csv',\n",
    "                                                'reviews.test.labeled.csv', test_user_dict, test_product_dict)"
   ]
  },
  {
   "cell_type": "code",
   "execution_count": 43,
   "metadata": {
    "scrolled": true
   },
   "outputs": [
    {
     "data": {
      "text/html": [
       "<div>\n",
       "<style scoped>\n",
       "    .dataframe tbody tr th:only-of-type {\n",
       "        vertical-align: middle;\n",
       "    }\n",
       "\n",
       "    .dataframe tbody tr th {\n",
       "        vertical-align: top;\n",
       "    }\n",
       "\n",
       "    .dataframe thead th {\n",
       "        text-align: right;\n",
       "    }\n",
       "</style>\n",
       "<table border=\"1\" class=\"dataframe\">\n",
       "  <thead>\n",
       "    <tr style=\"text-align: right;\">\n",
       "      <th></th>\n",
       "      <th>reviewerID</th>\n",
       "      <th>asin</th>\n",
       "      <th>overall</th>\n",
       "    </tr>\n",
       "  </thead>\n",
       "  <tbody>\n",
       "    <tr>\n",
       "      <th>0</th>\n",
       "      <td>A16NGP74HECTI9</td>\n",
       "      <td>6300210685</td>\n",
       "      <td>5</td>\n",
       "    </tr>\n",
       "    <tr>\n",
       "      <th>1</th>\n",
       "      <td>A2Z2W192L0WN9B</td>\n",
       "      <td>6305892865</td>\n",
       "      <td>5</td>\n",
       "    </tr>\n",
       "    <tr>\n",
       "      <th>2</th>\n",
       "      <td>A2U1SWUB5HDQ5J</td>\n",
       "      <td>B008JFUN50</td>\n",
       "      <td>5</td>\n",
       "    </tr>\n",
       "    <tr>\n",
       "      <th>3</th>\n",
       "      <td>A23NSSJMEISOO2</td>\n",
       "      <td>B004LWZW24</td>\n",
       "      <td>1</td>\n",
       "    </tr>\n",
       "    <tr>\n",
       "      <th>4</th>\n",
       "      <td>A14YZVQTMRO7NE</td>\n",
       "      <td>B000MNP2K8</td>\n",
       "      <td>5</td>\n",
       "    </tr>\n",
       "  </tbody>\n",
       "</table>\n",
       "</div>"
      ],
      "text/plain": [
       "       reviewerID        asin  overall\n",
       "0  A16NGP74HECTI9  6300210685        5\n",
       "1  A2Z2W192L0WN9B  6305892865        5\n",
       "2  A2U1SWUB5HDQ5J  B008JFUN50        5\n",
       "3  A23NSSJMEISOO2  B004LWZW24        1\n",
       "4  A14YZVQTMRO7NE  B000MNP2K8        5"
      ]
     },
     "execution_count": 43,
     "metadata": {},
     "output_type": "execute_result"
    }
   ],
   "source": [
    "test_df = pd.read_csv('reviews.dev.shortened.csv')\n",
    "test_df.head()"
   ]
  },
  {
   "cell_type": "code",
   "execution_count": 46,
   "metadata": {},
   "outputs": [
    {
     "data": {
      "text/plain": [
       "(1000, 3)"
      ]
     },
     "execution_count": 46,
     "metadata": {},
     "output_type": "execute_result"
    }
   ],
   "source": [
    "test_df.shape"
   ]
  },
  {
   "cell_type": "code",
   "execution_count": null,
   "metadata": {
    "collapsed": true
   },
   "outputs": [],
   "source": []
  },
  {
   "cell_type": "code",
   "execution_count": 44,
   "metadata": {},
   "outputs": [
    {
     "data": {
      "text/html": [
       "<div>\n",
       "<style scoped>\n",
       "    .dataframe tbody tr th:only-of-type {\n",
       "        vertical-align: middle;\n",
       "    }\n",
       "\n",
       "    .dataframe tbody tr th {\n",
       "        vertical-align: top;\n",
       "    }\n",
       "\n",
       "    .dataframe thead th {\n",
       "        text-align: right;\n",
       "    }\n",
       "</style>\n",
       "<table border=\"1\" class=\"dataframe\">\n",
       "  <thead>\n",
       "    <tr style=\"text-align: right;\">\n",
       "      <th></th>\n",
       "      <th>reviewerID</th>\n",
       "      <th>asin</th>\n",
       "      <th>overall</th>\n",
       "    </tr>\n",
       "  </thead>\n",
       "  <tbody>\n",
       "    <tr>\n",
       "      <th>0</th>\n",
       "      <td>A34DNO6UAH67Z0</td>\n",
       "      <td>B000CDSS22</td>\n",
       "      <td>5</td>\n",
       "    </tr>\n",
       "    <tr>\n",
       "      <th>1</th>\n",
       "      <td>A3APW42N5MRVWT</td>\n",
       "      <td>6305186774</td>\n",
       "      <td>2</td>\n",
       "    </tr>\n",
       "    <tr>\n",
       "      <th>2</th>\n",
       "      <td>A20D9VGCF3P13L</td>\n",
       "      <td>B004LWZW24</td>\n",
       "      <td>5</td>\n",
       "    </tr>\n",
       "    <tr>\n",
       "      <th>3</th>\n",
       "      <td>A82LIVYSX6WZ9</td>\n",
       "      <td>B00001U0DM</td>\n",
       "      <td>3</td>\n",
       "    </tr>\n",
       "    <tr>\n",
       "      <th>4</th>\n",
       "      <td>A3LRKDF5WU4ZDO</td>\n",
       "      <td>B00005JOZI</td>\n",
       "      <td>3</td>\n",
       "    </tr>\n",
       "  </tbody>\n",
       "</table>\n",
       "</div>"
      ],
      "text/plain": [
       "       reviewerID        asin  overall\n",
       "0  A34DNO6UAH67Z0  B000CDSS22        5\n",
       "1  A3APW42N5MRVWT  6305186774        2\n",
       "2  A20D9VGCF3P13L  B004LWZW24        5\n",
       "3   A82LIVYSX6WZ9  B00001U0DM        3\n",
       "4  A3LRKDF5WU4ZDO  B00005JOZI        3"
      ]
     },
     "execution_count": 44,
     "metadata": {},
     "output_type": "execute_result"
    }
   ],
   "source": [
    "training_df = pd.read_csv('reviews.test.shortened.csv')\n",
    "training_df.head()"
   ]
  },
  {
   "cell_type": "code",
   "execution_count": 47,
   "metadata": {},
   "outputs": [
    {
     "data": {
      "text/plain": [
       "(1000, 3)"
      ]
     },
     "execution_count": 47,
     "metadata": {},
     "output_type": "execute_result"
    }
   ],
   "source": [
    "training_df.shape"
   ]
  },
  {
   "cell_type": "code",
   "execution_count": null,
   "metadata": {
    "collapsed": true
   },
   "outputs": [],
   "source": []
  },
  {
   "cell_type": "code",
   "execution_count": null,
   "metadata": {
    "collapsed": true
   },
   "outputs": [],
   "source": []
  },
  {
   "cell_type": "code",
   "execution_count": null,
   "metadata": {
    "collapsed": true
   },
   "outputs": [],
   "source": []
  },
  {
   "cell_type": "code",
   "execution_count": null,
   "metadata": {
    "collapsed": true
   },
   "outputs": [],
   "source": []
  },
  {
   "cell_type": "code",
   "execution_count": null,
   "metadata": {
    "collapsed": true
   },
   "outputs": [],
   "source": []
  },
  {
   "cell_type": "code",
   "execution_count": null,
   "metadata": {
    "collapsed": true
   },
   "outputs": [],
   "source": []
  },
  {
   "cell_type": "code",
   "execution_count": null,
   "metadata": {
    "collapsed": true
   },
   "outputs": [],
   "source": []
  },
  {
   "cell_type": "code",
   "execution_count": null,
   "metadata": {
    "collapsed": true
   },
   "outputs": [],
   "source": []
  },
  {
   "cell_type": "code",
   "execution_count": null,
   "metadata": {
    "collapsed": true
   },
   "outputs": [],
   "source": []
  }
 ],
 "metadata": {
  "kernelspec": {
   "display_name": "Python 3",
   "language": "python",
   "name": "python3"
  },
  "language_info": {
   "codemirror_mode": {
    "name": "ipython",
    "version": 3
   },
   "file_extension": ".py",
   "mimetype": "text/x-python",
   "name": "python",
   "nbconvert_exporter": "python",
   "pygments_lexer": "ipython3",
   "version": "3.6.3"
  }
 },
 "nbformat": 4,
 "nbformat_minor": 2
}
